{
 "cells": [
  {
   "cell_type": "code",
   "execution_count": 84,
   "metadata": {},
   "outputs": [],
   "source": [
    "from gensim.test.utils import common_corpus, common_dictionary\n",
    "from gensim.models import LdaMulticore, LdaModel\n",
    "import sys\n",
    "import pandas as pd\n",
    "import scipy as sc\n",
    "import scipy.sparse as sparse\n",
    "from sklearn.feature_extraction.text import CountVectorizer\n",
    "from gensim import matutils as genmath"
   ]
  },
  {
   "cell_type": "code",
   "execution_count": 85,
   "metadata": {},
   "outputs": [],
   "source": [
    "df1 = pd.read_csv(r\"C:\\Users\\hasee\\Documents\\comptools\\project\\data\\articles1.csv\") #TODO replace with sys path\n",
    "# df2 = pd.read_csv(r\"C:\\Users\\hasee\\Documents\\comptools\\project\\data\\articles2.csv\")\n",
    "# df3 = pd.read_csv(r\"C:\\Users\\hasee\\Documents\\comptools\\project\\data\\articles3.csv\")"
   ]
  },
  {
   "cell_type": "code",
   "execution_count": 86,
   "metadata": {},
   "outputs": [],
   "source": [
    "# df1.content.size\n",
    "my_corpus = list(df1.content)\n",
    "# print(my_corpus[0])\n",
    "vectorizer = CountVectorizer()\n",
    "X = vectorizer.fit_transform(my_corpus)\n",
    "my_vocab = dict((v,k) for k,v in vectorizer.vocabulary_.items())\n",
    "my_corpus = genmath.Sparse2Corpus(sparse.csc_matrix(X))"
   ]
  },
  {
   "cell_type": "code",
   "execution_count": 87,
   "metadata": {},
   "outputs": [],
   "source": [
    "# ### Single core\n",
    "# lda=LdaModel(corpus=my_corpus, id2word=my_vocab, num_topics=1, chunksize=1)"
   ]
  },
  {
   "cell_type": "code",
   "execution_count": 88,
   "metadata": {},
   "outputs": [],
   "source": [
    "### Multicore\n",
    "lda = LdaMulticore(corpus=my_corpus, id2word=my_vocab, workers=3)"
   ]
  },
  {
   "cell_type": "code",
   "execution_count": null,
   "metadata": {},
   "outputs": [],
   "source": []
  }
 ],
 "metadata": {
  "kernelspec": {
   "display_name": "Python 3.9.2 ('mbml')",
   "language": "python",
   "name": "python3"
  },
  "language_info": {
   "codemirror_mode": {
    "name": "ipython",
    "version": 3
   },
   "file_extension": ".py",
   "mimetype": "text/x-python",
   "name": "python",
   "nbconvert_exporter": "python",
   "pygments_lexer": "ipython3",
   "version": "3.9.2"
  },
  "orig_nbformat": 4,
  "vscode": {
   "interpreter": {
    "hash": "b59ae4c83bedc21550b7aaae57ef075ce76983e997c1d4affaa465b3a93b6d85"
   }
  }
 },
 "nbformat": 4,
 "nbformat_minor": 2
}
