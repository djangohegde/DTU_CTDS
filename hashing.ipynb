{
 "cells": [
  {
   "cell_type": "code",
   "execution_count": null,
   "metadata": {},
   "outputs": [],
   "source": []
  },
  {
   "cell_type": "code",
   "execution_count": 62,
   "metadata": {},
   "outputs": [],
   "source": [
    "import sys\n",
    "import os\n",
    "import mmh3\n",
    "import numpy as np\n",
    "import itertools\n",
    "import collections\n",
    "import pandas as pd\n",
    "import more_itertools\n",
    "from itertools import tee\n",
    "import re\n",
    "#################### Utilities ######################\n",
    "#hashes a list of strings\n",
    "def listhash(l,seed):\n",
    "\tval = 0\n",
    "\tfor e in l:\n",
    "\t\tval = val ^ mmh3.hash(e, seed)\n",
    "\treturn val \n",
    "\n",
    "################### Similarity ######################\n",
    "\n",
    "docs = {} #dictionary mapping document id to document contents\n",
    "\n",
    "# datafolder = os.path.join(\"C:\\\\Users\\\\hasee\\\\Documents\\\\comptools\\\\week5\\\\DataWeek5\", \"ats_corpus_small\")   # change to ats_corpus for large data set\n",
    "\n",
    "# for file in os.listdir(datafolder):\n",
    "#     filepath = os.path.join(datafolder, file)\n",
    "#     f = open(filepath, 'r')\n",
    "#     docs[file] = f.read()\n",
    "#     print(\"read document \" + file)\n",
    "#     f.close()\n",
    "\n",
    "data = pd.read_csv(r\"C:\\Users\\hasee\\Documents\\comptools\\DTU_CTDS\\data\\articles1.csv\")\n",
    "\n",
    "#%%\n",
    "\n",
    "data1 = data[:1000]\n",
    "key = data1[\"Unnamed: 0\"]\n",
    "data2 = data1[\"content\"]\n",
    "docs = data2.to_dict()\n",
    "# docs = data2.tolist()\n",
    "# g_docs = data2.tolist()\n",
    "docs = list(zip(data2.tolist())) ## convert to tuple for starmap to work basically getting ['dfdf', 'dddd', 'sss'] => [('dfdf'), ('dddd'), ('sss')]\n",
    "# print(docs[2])"
   ]
  },
  {
   "cell_type": "code",
   "execution_count": 63,
   "metadata": {},
   "outputs": [],
   "source": [
    "''' Extension of standard pairwise function to 3-pairwise from the py standard lib'''\n",
    "def three_pairwise(iterable):\n",
    "    # pairwise('ABCDEFG') --> AB BC CD DE EF FG\n",
    "    # three_pairwise('ABCDEFG') --> ABC BCD CDE DEF EFG FG\n",
    "    a, b, c = tee(iterable, 3) ## Create three iterators\n",
    "    next(b, None) ## Advance the second\n",
    "    next(c, None) ## Advance the third\n",
    "    next(c, None) ## Advance the third once again. This ensures the third iterator starts at the third element and that we can create the 3-tuple\n",
    "    return zip(a, b, c) ### Zip everything (1 elem, 2 elem, and 3 elem) concurrently.\n",
    "\n",
    "def hash_docs(doc):\n",
    "    # three_tup=zip\n",
    "    lst_shingles_h=[]\n",
    "    # for doc in docs:\n",
    "    three_tup=three_pairwise(doc.split(\" \"))\n",
    "    seed=0\n",
    "    return [listhash(shingle, seed) for shingle in three_tup]  # \n",
    "\n",
    "''' Returns document as a list of hashes'''\n",
    "'''\n",
    "Creates shingles of size q, removing shingles of size < q. Removes duplicates and hashes the result.\n",
    "'''\n",
    "def hashed_lst_shingles(my_docs):\n",
    "        \n",
    "    # seed=0\n",
    "    # doc = doc.split(\" \")\n",
    "    # lst_shingles_h = [listhash(doc[i:i+q], seed) for i in range(0, len(doc), q-2) if len(doc[i:i+q])==q] # create list of shingles of length q\n",
    "    # return lst_shingles_h\n",
    "\n",
    "    '''More efficient implementation'''\n",
    "\n",
    "    # https://stackoverflow.com/questions/3862010/is-there-a-generator-version-of-string-split-in-python\n",
    "    # def split_iter(string):\n",
    "    #     return (x.group(0) for x in re.finditer(r\"[A-Za-z']+\", string)) # maybe remove list() made it 10x faster?\n",
    "\n",
    "    hashed_docs = itertools.starmap(hash_docs, my_docs)\n",
    "    return hashed_docs, len(my_docs)\n",
    "\n",
    "# doc = \"You and me, we made a vow. For better or for worse. I can't believe you let me down\"\n",
    "# lst_shnigles = hashed_lst_shingles(3, doc)\n",
    "# print(lst_shnigles)\n",
    "# [['You', 'and', 'me,'], ['and', 'me,', 'we'], ['me,', 'we', 'made'], ['we', 'made', 'a'], ['made', 'a', 'vow.'], ['a', 'vow.', 'For'], ['vow.', 'For', 'better'], ['For', 'better', 'or'], ['better', 'or', 'for'], ['or', 'for', 'worse.'], ['for', 'worse.', 'I'], ['worse.', 'I', \"can't\"], ['I', \"can't\", 'believe'], [\"can't\", 'believe', 'you'], ['believe', 'you', 'let'], ['you', 'let', 'me'], ['let', 'me', 'down']]"
   ]
  },
  {
   "cell_type": "code",
   "execution_count": 61,
   "metadata": {},
   "outputs": [
    {
     "name": "stdout",
     "output_type": "stream",
     "text": [
      "('A', 'B', 'C')\n",
      "('B', 'C', 'D')\n",
      "('C', 'D', 'E')\n",
      "('D', 'E', 'F')\n",
      "('E', 'F', 'G')\n"
     ]
    }
   ],
   "source": [
    "\n",
    "\n",
    "# res=three_pairwise([\"A\", \"B\", \"C\", \"D\", \"E\", \"F\", \"G\"])\n",
    "res=zip\n",
    "for key in docs.keys():\n",
    "    mydoc = split_iter(docs[key])\n",
    "    res=three_pairwise(mydoc) \n",
    "\n",
    "# print(res)\n",
    "# for k in res:\n",
    "    # print(k)\n",
    "# res=more_itertools.pairwise()"
   ]
  },
  {
   "cell_type": "code",
   "execution_count": 249,
   "metadata": {},
   "outputs": [
    {
     "name": "stdout",
     "output_type": "stream",
     "text": [
      "[1, 0, 0, 0, 0, 1, 0, 0, 0, 0, 1, 0, 0, 0, 0, 1]\n"
     ]
    },
    {
     "data": {
      "text/plain": [
       "array([[1, 0, 0, 0],\n",
       "       [0, 1, 0, 0],\n",
       "       [0, 0, 1, 0],\n",
       "       [0, 0, 0, 1]])"
      ]
     },
     "execution_count": 249,
     "metadata": {},
     "output_type": "execute_result"
    }
   ],
   "source": [
    "s=[\"a\",\"x\"], [\"b\",\"x\"], [\"c\",\"x\"], [\"d\",\"x\"]\n",
    "a=['a', 'b', 'c', 'd']\n",
    "# b_m=np.zeros((16,))\n",
    "b_m=[]\n",
    "for (i, j) in itertools.product(a, s):\n",
    "    b_m.append(int(i in j))\n",
    "    \n",
    "print(b_m)\n",
    "b_m=np.array(b_m)\n",
    "np.reshape(b_m, (len(a),len(s)))\n",
    "#   ax bx cx dx\n",
    "# a 1  0  0  0\n",
    "# b 0  1  0  0\n",
    "# c 0  0  1  0\n",
    "# d 0  0  0  1\n",
    "\n"
   ]
  },
  {
   "cell_type": "code",
   "execution_count": 318,
   "metadata": {},
   "outputs": [
    {
     "name": "stdout",
     "output_type": "stream",
     "text": [
      "2\n",
      "3\n",
      "4\n"
     ]
    }
   ],
   "source": [
    "def ff(x):\n",
    "    return x+1\n",
    "a=itertools.starmap(ff, zip([1,2,3]))\n",
    "for t in a:\n",
    "    print(t)"
   ]
  },
  {
   "cell_type": "code",
   "execution_count": 33,
   "metadata": {},
   "outputs": [
    {
     "name": "stdout",
     "output_type": "stream",
     "text": [
      "[1. 1. 0. 1. 0. 0.]\n",
      "[0. 1. 0. 0. 0. 0.]\n",
      "[1. 0. 0. 1. 0. 0.]\n",
      "[0. 0. 0. 1. 0. 0.]\n",
      "[0. 0. 0. 0. 0. 1.]\n"
     ]
    },
    {
     "name": "stderr",
     "output_type": "stream",
     "text": [
      "C:\\Users\\hasee\\AppData\\Local\\Temp\\ipykernel_5144\\2502438174.py:2: VisibleDeprecationWarning: Creating an ndarray from ragged nested sequences (which is a list-or-tuple of lists-or-tuples-or ndarrays with different lengths or shapes) is deprecated. If you meant to do this, you must specify 'dtype=object' when creating the ndarray.\n",
      "  b=np.array([[\"a\", \"b\", \"d\", \"d\"], ['b','b,','b'], ['a','d','d','d'], ['d','d','d'], ['f','f','f']])\n"
     ]
    },
    {
     "data": {
      "text/plain": [
       "array([[1., 1., 0., 1., 0., 0.],\n",
       "       [0., 1., 0., 0., 0., 0.],\n",
       "       [1., 0., 0., 1., 0., 0.],\n",
       "       [0., 0., 0., 1., 0., 0.],\n",
       "       [0., 0., 0., 0., 0., 1.]])"
      ]
     },
     "execution_count": 33,
     "metadata": {},
     "output_type": "execute_result"
    }
   ],
   "source": [
    "\n",
    "a=np.array([\"a\", \"b\", \"c\", \"d\", \"e\", \"f\"])\n",
    "b=np.array([[\"a\", \"b\", \"d\", \"d\"], ['b','b,','b'], ['a','d','d','d'], ['d','d','d'], ['f','f','f']])\n",
    "res_lst=[]\n",
    "for c in b:\n",
    "    my_a=np.zeros((len(a),))\n",
    "    x = np.intersect1d(a, c, return_indices=True)\n",
    "    # print(x[1]) # indices where similar elements exist in a\n",
    "    np.put(my_a, x[1], [1])\n",
    "    print(my_a)\n",
    "    res_lst.append(my_a)\n",
    "    # breaks\n",
    "res_lst = np.vstack(res_lst)\n",
    "res_lst"
   ]
  },
  {
   "cell_type": "code",
   "execution_count": 18,
   "metadata": {},
   "outputs": [
    {
     "name": "stdout",
     "output_type": "stream",
     "text": [
      "['a', 'd', 'b']\n",
      "[array([[0]], dtype=int64), array([[3]], dtype=int64), array([[1]], dtype=int64)]\n",
      "end\n",
      "[1. 1. 0. 1. 0. 0.]\n",
      "['b']\n",
      "[array([[1]], dtype=int64)]\n",
      "end\n",
      "[0. 1. 0. 0. 0. 0.]\n",
      "['a', 'd']\n",
      "[array([[0]], dtype=int64), array([[3]], dtype=int64)]\n",
      "end\n",
      "[1. 0. 0. 1. 0. 0.]\n",
      "['d']\n",
      "[array([[3]], dtype=int64)]\n",
      "end\n",
      "[0. 0. 0. 1. 0. 0.]\n",
      "['f']\n",
      "[array([[5]], dtype=int64)]\n",
      "end\n",
      "[0. 0. 0. 0. 0. 1.]\n"
     ]
    },
    {
     "name": "stderr",
     "output_type": "stream",
     "text": [
      "C:\\Users\\hasee\\AppData\\Local\\Temp\\ipykernel_17700\\177946328.py:3: VisibleDeprecationWarning: Creating an ndarray from ragged nested sequences (which is a list-or-tuple of lists-or-tuples-or ndarrays with different lengths or shapes) is deprecated. If you meant to do this, you must specify 'dtype=object' when creating the ndarray.\n",
      "  b=np.array([[\"a\", \"b\", \"d\", \"d\"], ['b','b,','b'], ['a','d','d','d'], ['d','d','d'], ['f','f','f']])\n"
     ]
    },
    {
     "data": {
      "text/plain": [
       "array([[1., 1., 0., 1., 0., 0.],\n",
       "       [0., 1., 0., 0., 0., 0.],\n",
       "       [1., 0., 0., 1., 0., 0.],\n",
       "       [0., 0., 0., 1., 0., 0.],\n",
       "       [0., 0., 0., 0., 0., 1.]])"
      ]
     },
     "execution_count": 18,
     "metadata": {},
     "output_type": "execute_result"
    }
   ],
   "source": [
    "# import numpy as np\n",
    "# a=np.array([\"a\", \"b\", \"c\", \"d\", \"e\", \"f\"])\n",
    "# b=np.array([[\"a\", \"b\", \"d\", \"d\"], ['b','b,','b'], ['a','d','d','d'], ['d','d','d'], ['f','f','f']])\n",
    "# res_lst=[]\n",
    "# seta=set(a)\n",
    "# for c in b:\n",
    "#     c=set(c)\n",
    "#     my_a=np.zeros((len(a),))\n",
    "#     res=list(seta.intersection(c))\n",
    "#     indices=[np.argwhere(a == x) for x in res]\n",
    "#     np.put(my_a, indices, [1])\n",
    "#     print(my_a)\n",
    "#     res_lst.append(my_a)\n",
    "#     # breaks\n",
    "# res_lst = np.vstack(res_lst)\n",
    "# res_lst"
   ]
  },
  {
   "cell_type": "markdown",
   "metadata": {},
   "source": [
    "### MinHashing implementation"
   ]
  },
  {
   "cell_type": "code",
   "execution_count": 88,
   "metadata": {},
   "outputs": [],
   "source": [
    "import time\n",
    "from itertools import repeat\n",
    "def boolean_gen_subroutine(cart_prod_res_elem):\n",
    "    # print(\"cart\", cart_prod_list[0])\n",
    "    # print(\"cccc\", cart_prod_list[1])\n",
    "    return int(cart_prod_res_elem[0] in cart_prod_res_elem[1]) ## return 1 if universe element exists in document\n",
    "\n",
    "# def my_map_subroutine(single_u, doc):\n",
    "#     set_uni=set(my_universe)\n",
    "#     my_a=np.zeros((len(my_universe),))\n",
    "#     res=list(set_uni.intersection(doc))\n",
    "#     indices=[np.argwhere(my_universe == x) for x in res]\n",
    "#     # x = np.intersect1d(my_universe, doc, return_indices=True)\n",
    "#     # print(x[1]) # indices where similar elements exist in a\n",
    "#     np.put(my_a, indices, [1])\n",
    "#     return my_a\n",
    "\n",
    "def boolean_gen(my_universe, my_docs, num_docs):\n",
    "    # boolean_m=[]\n",
    "    # for my_doc in doc_hashes1:\n",
    "    # doc_hashes1=set(doc_hashes1) # Without this, the code is too slow to run!\n",
    "    # return [u_elem in my_doc for my_doc in doc_hashes1] # [1 0 1 0 1 0]\n",
    "    # #######################################################################\n",
    "    b_m=[]\n",
    "    # a = [[] for x in repeat(None, len(my_universe))]\n",
    "    ######################################\n",
    "    # my_universe = np.array(my_universe)\n",
    "    # my_docs = np.array(my_docs)\n",
    "    # print(my_universe.shape)\n",
    "    # print(my_docs.shape)\n",
    "    # print(\"hapes\")\n",
    "    \n",
    "    # set_uni=set(my_universe)\n",
    "    \n",
    "    # for doc in my_docs:\n",
    "    #     # print(\"DOC\", doc)\n",
    "    #     my_a=np.zeros((len(my_universe),))\n",
    "    #     res=list(set_uni.intersection(doc))\n",
    "    #     indices=[np.argwhere(my_universe == x) for x in res]\n",
    "    #     # x = np.intersect1d(my_universe, doc, return_indices=True)\n",
    "    #     # print(x[1]) # indices where similar elements exist in a\n",
    "    #     np.put(my_a, indices, [1])\n",
    "    #     b_m.append(my_a)\n",
    "    \n",
    "    # b_m = np.vstack(b_m)\n",
    "    ########################################\n",
    "    # then=time.time()\n",
    "    # my_universe = np.array(my_universe)\n",
    "    # map(my_map_subroutine, my_universe, docs)\n",
    "    # # mapped_lst = [np.array(map(my_map_subroutine, my_universe, doc)) for doc in my_docs]\n",
    "    # print(\"Elapsed time:\", time.time()-then)\n",
    "    # print(len(mapped_lst))\n",
    "    # print(type(mapped_lst))\n",
    "    # b_m=np.vstack(mapped_lst)\n",
    "    ###########################################\n",
    "\n",
    "    cart_prod_res=itertools.product(my_universe, my_docs) ## Cartesian product yields (u_elem1, [doc1_elem1, doc1_elem2, ...]), (u_elem2, [doc2_elem1, doc2_elem2 ... ]), ... Basically a nested for loop\n",
    "    # cart_prod_list=list(zip(cart_prod_list))\n",
    "    boolean_array=map(boolean_gen_subroutine, cart_prod_res)\n",
    "    # boolean_array = itertools.starmap(boolean_gen_subroutine, cart_prod_list) # for each element in my_list we are checking whether u_elem exists in the doc if yes we place a 1 otherwise 0 to get boolean array\n",
    "    # boolean_array=list(boolean_array) ## returns list of boolean array\n",
    "    print(\"bool array type\", type(boolean_array))\n",
    "    # boolean_array=np.fromiter(boolean_array, dtype=np.int)\n",
    "    # print(\"bool array size\", boolean_array.shape)\n",
    "    # boolean_array = np.reshape(boolean_array, (len(my_universe), num_docs))\n",
    "    # print(\"bool array shape after reshaping\", boolean_array.shape)\n",
    "    # print(\"arra\",boolean_array)\n",
    "    # print(\"looping done\")\n",
    "\n",
    "\n",
    "    # print(\"np ara\")\n",
    "    # b_m=np.array(b_m)\n",
    "    # print(\"uni\", len(my_universe))\n",
    "    print(\"np done\")\n",
    "    # b_m = np.reshape(b_m, (len(my_universe),num_docs)) ## we reshape to get a matrix from the list\n",
    "    # print(\"ddddddddd\")\n",
    "    # print(len(my_universe))\n",
    "    # print(num_docs)\n",
    "    # print(b_m.shape)\n",
    "    # return b_m\n",
    "    return boolean_array\n",
    "\n",
    "\n",
    "def generate_matrices(docs, shingle_size=3, num_hash_funcs=2):\n",
    "    print(\"1\")\n",
    "    \n",
    "    start=time.time()\n",
    "\n",
    "    doc_hashes, num_docs = hashed_lst_shingles(docs)        \n",
    "    doc_hashes1, doc_hashes2 = itertools.tee(doc_hashes, 2) ## create two iterators as one gets consumed\n",
    "    \n",
    "    # print()\n",
    "    end=time.time()\n",
    "    print(\"Elapsed 1\", end-start)\n",
    "    \n",
    "    my_universe = list(itertools.chain(*doc_hashes2)) # flatten to get a single list\n",
    "    my_universe = list(set(my_universe)) # set() to remove duplicates. This gives the universe.\n",
    "    # print(\"my elems\")\n",
    "    # print(my_elements)\n",
    "    print(\"3\")\n",
    "    ''' Iterate over documents (S1, S2, etc.).\n",
    "        insert 1 if element from universe exists in the doc else 0\n",
    "        finally, concatenate all lists to get matrix m\n",
    "    '''\n",
    "    # boolean_m = []\n",
    "    # print(\"doc hashes\")\n",
    "    # print(doc_hashes)\n",
    "\n",
    "    \n",
    "    # boolean_m = itertools.starmap(boolean_gen, list(zip(my_universe)))\n",
    "    print(\"num_docs\", num_docs)\n",
    "    m = boolean_gen(my_universe, list(doc_hashes1), num_docs) # Matrix m!\n",
    "    print(\"m shape\", m.shape)\n",
    "    print(\"4\")\n",
    "    # m = np.array(boolean_m) # Matrix m!\n",
    "   \n",
    "    ''' Compute hashes to get matrix h_m'''\n",
    "    rows = np.arange(len(my_universe))\n",
    "    # h_m = np.full((num_hash_funcs, len(my_universe)), np.arange(len(my_universe)))\n",
    "    # h_m[]\n",
    "    print(\"5\")\n",
    "    hashes_lst = []\n",
    "    \n",
    "    for i in range(num_hash_funcs):\n",
    "        # h_m[i, :] = mmh3.hash(h_m[i, :], seed=i)\n",
    "        hashes_lst.append([mmh3.hash(x, seed=i) for x in rows])\n",
    "\n",
    "    h_m = np.array(hashes_lst).T # Matrix h_m!\n",
    "    # h_m=h_m.T\n",
    "    print(\"end\")\n",
    "\n",
    "    return m.T, h_m ## strange that you transpose here? # m: (22, 3), h_m: (22, 2)\n",
    "\n",
    "def min_hash_alg(m, h_m):\n",
    "    sig_m = np.full((h_m.shape[1], m.shape[1]), np.inf) # Signature matrix. This stores the final result! ## (2 hash funcions, 3 documents)\n",
    "    print(\"6\")\n",
    "    my_args = np.argwhere(m == 1) # \n",
    "    for args in my_args:\n",
    "        row=args[0]\n",
    "        column=args[1]\n",
    "        for i in range(h_m.shape[1]): # 2\n",
    "            if h_m[row][i] < sig_m[i, column]:\n",
    "                sig_m[i, column] = h_m[row][i]\n",
    "    \n",
    "    return sig_m\n"
   ]
  },
  {
   "cell_type": "code",
   "execution_count": 101,
   "metadata": {},
   "outputs": [
    {
     "name": "stdout",
     "output_type": "stream",
     "text": [
      "[1, 0, 0]\n",
      "inf\n"
     ]
    }
   ],
   "source": [
    "lst=[[1,0,0], [0,0,0], [0,0,1], [1,1,1]]\n",
    "sigm = np.full((3*2, ), np.inf)\n",
    "for (i,j) in zip(lst, sigm):\n",
    "    print(i)\n",
    "    print(j)\n",
    "    break"
   ]
  },
  {
   "cell_type": "code",
   "execution_count": 54,
   "metadata": {},
   "outputs": [
    {
     "data": {
      "text/plain": [
       "array([[1, 0],\n",
       "       [2, 0],\n",
       "       [3, 0]])"
      ]
     },
     "execution_count": 54,
     "metadata": {},
     "output_type": "execute_result"
    }
   ],
   "source": [
    "np.stack([[1,2,3],[0,0,0]]).T"
   ]
  },
  {
   "cell_type": "code",
   "execution_count": 86,
   "metadata": {},
   "outputs": [
    {
     "name": "stdout",
     "output_type": "stream",
     "text": [
      "1\n",
      "Elapsed 1 0.0\n",
      "3\n",
      "num_docs 3\n",
      "bool array type <class 'map'>\n",
      "bool array size (66,)\n",
      "bool array shape after reshaping (22, 3)\n",
      "looping done\n",
      "np done\n",
      "m shape (3, 22)\n",
      "4\n",
      "5\n",
      "end\n",
      "(22, 3)\n",
      "(22, 2)\n",
      "6\n"
     ]
    },
    {
     "name": "stderr",
     "output_type": "stream",
     "text": [
      "C:\\Users\\hasee\\AppData\\Local\\Temp\\ipykernel_17700\\1498093444.py:63: DeprecationWarning: `np.int` is a deprecated alias for the builtin `int`. To silence this warning, use `int` by itself. Doing this will not modify any behavior and is safe. When replacing `np.int`, you may wish to use e.g. `np.int64` or `np.int32` to specify the precision. If you wish to review your current use, check the release note link for additional information.\n",
      "Deprecated in NumPy 1.20; for more details and guidance: https://numpy.org/devdocs/release/1.20.0-notes.html#deprecations\n",
      "  boolean_array=np.fromiter(boolean_array, dtype=np.int)\n"
     ]
    },
    {
     "data": {
      "text/plain": [
       "array([[-1.89304750e+09, -1.19706312e+09, -1.89304750e+09],\n",
       "       [-7.78479335e+08, -2.07294148e+09, -7.78479335e+08]])"
      ]
     },
     "execution_count": 86,
     "metadata": {},
     "output_type": "execute_result"
    }
   ],
   "source": [
    "test_docs=list(zip([\"You and me, we made a vow. For better or for worse. I can't believe you let me down\",\n",
    "\"Time, space and state. Equal everything explanable.\",\n",
    "\"You and me, we made a vow. For better or for worse. I can't believe you let me down\"]))\n",
    "m, h_m = generate_matrices(test_docs, shingle_size=3, num_hash_funcs=2)\n",
    "print(m.shape)\n",
    "print(h_m.shape)\n",
    "sig_m = min_hash_alg(m, h_m)\n",
    "sig_m\n",
    "# m shape before transposing: (3, 22)\n",
    "# m shape after transposing: (22, 3) "
   ]
  },
  {
   "cell_type": "markdown",
   "metadata": {},
   "source": [
    "From results of sig matrix above, documents 1 and 3 are very similar (similar hashes)"
   ]
  },
  {
   "cell_type": "code",
   "execution_count": 25,
   "metadata": {},
   "outputs": [
    {
     "name": "stdout",
     "output_type": "stream",
     "text": [
      "Signature matrix:\n",
      "6\n"
     ]
    },
    {
     "data": {
      "text/plain": [
       "array([[1., 3., 0., 1.],\n",
       "       [0., 2., 0., 0.]])"
      ]
     },
     "execution_count": 25,
     "metadata": {},
     "output_type": "execute_result"
    }
   ],
   "source": [
    "''' Testing own implementation with input example from book'''\n",
    "m = np.array([[1,0,0,1], [0,0,1,0], [0,1,0,1], [1,0,1,1],[0,0,1,0]])\n",
    "h_m = np.array([[1,1],[2,4],[3,2],[4,0],[0,3]])\n",
    "print(\"Signature matrix:\")\n",
    "sig_m = min_hash_alg(m, h_m)\n",
    "sig_m"
   ]
  },
  {
   "cell_type": "code",
   "execution_count": 89,
   "metadata": {},
   "outputs": [
    {
     "name": "stdout",
     "output_type": "stream",
     "text": [
      "1\n",
      "Elapsed 1 0.0\n",
      "3\n",
      "num_docs 1000\n",
      "bool array type <class 'map'>\n",
      "np done\n"
     ]
    },
    {
     "ename": "AttributeError",
     "evalue": "'map' object has no attribute 'shape'",
     "output_type": "error",
     "traceback": [
      "\u001b[1;31m---------------------------------------------------------------------------\u001b[0m",
      "\u001b[1;31mAttributeError\u001b[0m                            Traceback (most recent call last)",
      "Cell \u001b[1;32mIn [89], line 1\u001b[0m\n\u001b[1;32m----> 1\u001b[0m m, h_m \u001b[39m=\u001b[39m generate_matrices(docs, shingle_size\u001b[39m=\u001b[39m\u001b[39m3\u001b[39m, num_hash_funcs\u001b[39m=\u001b[39m\u001b[39m100\u001b[39m)\n\u001b[0;32m      2\u001b[0m \u001b[39mprint\u001b[39m(\u001b[39m\"\u001b[39m\u001b[39mdd\u001b[39m\u001b[39m\"\u001b[39m)\n\u001b[0;32m      3\u001b[0m sig_m \u001b[39m=\u001b[39m min_hash_alg(m, h_m)\n",
      "Cell \u001b[1;32mIn [88], line 113\u001b[0m, in \u001b[0;36mgenerate_matrices\u001b[1;34m(docs, shingle_size, num_hash_funcs)\u001b[0m\n\u001b[0;32m    111\u001b[0m \u001b[39mprint\u001b[39m(\u001b[39m\"\u001b[39m\u001b[39mnum_docs\u001b[39m\u001b[39m\"\u001b[39m, num_docs)\n\u001b[0;32m    112\u001b[0m m \u001b[39m=\u001b[39m boolean_gen(my_universe, \u001b[39mlist\u001b[39m(doc_hashes1), num_docs) \u001b[39m# Matrix m!\u001b[39;00m\n\u001b[1;32m--> 113\u001b[0m \u001b[39mprint\u001b[39m(\u001b[39m\"\u001b[39m\u001b[39mm shape\u001b[39m\u001b[39m\"\u001b[39m, m\u001b[39m.\u001b[39;49mshape)\n\u001b[0;32m    114\u001b[0m \u001b[39mprint\u001b[39m(\u001b[39m\"\u001b[39m\u001b[39m4\u001b[39m\u001b[39m\"\u001b[39m)\n\u001b[0;32m    115\u001b[0m \u001b[39m# m = np.array(boolean_m) # Matrix m!\u001b[39;00m\n",
      "\u001b[1;31mAttributeError\u001b[0m: 'map' object has no attribute 'shape'"
     ]
    }
   ],
   "source": [
    "m, h_m = generate_matrices(docs, shingle_size=3, num_hash_funcs=100)\n",
    "print(\"dd\")\n",
    "sig_m = min_hash_alg(m, h_m)\n",
    "# sig_m"
   ]
  },
  {
   "cell_type": "code",
   "execution_count": 9,
   "metadata": {},
   "outputs": [
    {
     "data": {
      "text/plain": [
       "(379347, 100)"
      ]
     },
     "execution_count": 9,
     "metadata": {},
     "output_type": "execute_result"
    }
   ],
   "source": [
    "h_m.shape"
   ]
  },
  {
   "cell_type": "code",
   "execution_count": 57,
   "metadata": {},
   "outputs": [
    {
     "data": {
      "text/plain": [
       "array([[-2.14747874e+09, -2.14747580e+09, -2.14728504e+09,\n",
       "        -2.14746990e+09, -2.14746630e+09, -2.14707323e+09,\n",
       "        -2.14665401e+09, -2.14746630e+09],\n",
       "       [-2.14746538e+09, -2.14724729e+09, -2.14715192e+09,\n",
       "        -2.14748198e+09, -2.14744212e+09, -2.14738709e+09,\n",
       "        -2.14715744e+09, -2.14743367e+09],\n",
       "       [-2.14743896e+09, -2.14735663e+09, -2.14743896e+09,\n",
       "        -2.14743896e+09, -2.14745845e+09, -2.14659046e+09,\n",
       "        -2.14659046e+09, -2.14743182e+09],\n",
       "       [-2.14746356e+09, -2.14741023e+09, -2.14742918e+09,\n",
       "        -2.14746529e+09, -2.14744603e+09, -2.14743953e+09,\n",
       "        -2.14743953e+09, -2.14744603e+09],\n",
       "       [-2.14748073e+09, -2.14688307e+09, -2.14748073e+09,\n",
       "        -2.14744967e+09, -2.14745262e+09, -2.14513463e+09,\n",
       "        -2.14513463e+09, -2.14745262e+09],\n",
       "       [-2.14747971e+09, -2.14737424e+09, -2.14746920e+09,\n",
       "        -2.14745471e+09, -2.14747544e+09, -2.14745785e+09,\n",
       "        -2.14745785e+09, -2.14743593e+09],\n",
       "       [-2.14747919e+09, -2.14736909e+09, -2.14747919e+09,\n",
       "        -2.14747272e+09, -2.14740999e+09, -2.14739303e+09,\n",
       "        -2.14730810e+09, -2.14740999e+09],\n",
       "       [-2.14748211e+09, -2.14747979e+09, -2.14735975e+09,\n",
       "        -2.14742221e+09, -2.14745043e+09, -2.14744052e+09,\n",
       "        -2.14744052e+09, -2.14743001e+09],\n",
       "       [-2.14747873e+09, -2.14692407e+09, -2.14738470e+09,\n",
       "        -2.14747632e+09, -2.14746524e+09, -2.14682770e+09,\n",
       "        -2.14682770e+09, -2.14732978e+09],\n",
       "       [-2.14744871e+09, -2.14746932e+09, -2.14731371e+09,\n",
       "        -2.14741695e+09, -2.14743835e+09, -2.14643238e+09,\n",
       "        -2.14643238e+09, -2.14726243e+09],\n",
       "       [-2.14746648e+09, -2.14746005e+09, -2.14746648e+09,\n",
       "        -2.14748067e+09, -2.14746724e+09, -2.14747718e+09,\n",
       "        -2.14747718e+09, -2.14736411e+09],\n",
       "       [-2.14739148e+09, -2.14654175e+09, -2.14722350e+09,\n",
       "        -2.14747670e+09, -2.14747308e+09, -2.14735184e+09,\n",
       "        -2.14735184e+09, -2.14743216e+09],\n",
       "       [-2.14742340e+09, -2.14728667e+09, -2.14719562e+09,\n",
       "        -2.14739840e+09, -2.14747582e+09, -2.14703132e+09,\n",
       "        -2.14703132e+09, -2.14747455e+09],\n",
       "       [-2.14742883e+09, -2.14746032e+09, -2.14734436e+09,\n",
       "        -2.14744794e+09, -2.14735803e+09, -2.14683769e+09,\n",
       "        -2.14683769e+09, -2.14735803e+09],\n",
       "       [-2.14747807e+09, -2.14738901e+09, -2.14734615e+09,\n",
       "        -2.14748065e+09, -2.14746228e+09, -2.14734686e+09,\n",
       "        -2.14734686e+09, -2.14746228e+09],\n",
       "       [-2.14747261e+09, -2.14715405e+09, -2.14740958e+09,\n",
       "        -2.14747549e+09, -2.14745559e+09, -2.14743008e+09,\n",
       "        -2.14743008e+09, -2.14745559e+09],\n",
       "       [-2.14747445e+09, -2.14727388e+09, -2.14741848e+09,\n",
       "        -2.14747933e+09, -2.14747784e+09, -2.14691244e+09,\n",
       "        -2.14691244e+09, -2.14747784e+09],\n",
       "       [-2.14747798e+09, -2.14743644e+09, -2.14738672e+09,\n",
       "        -2.14743644e+09, -2.14742384e+09, -2.14728574e+09,\n",
       "        -2.14743391e+09, -2.14727275e+09],\n",
       "       [-2.14748035e+09, -2.14724947e+09, -2.14735318e+09,\n",
       "        -2.14748035e+09, -2.14747489e+09, -2.14748035e+09,\n",
       "        -2.14748035e+09, -2.14743693e+09],\n",
       "       [-2.14748067e+09, -2.14729916e+09, -2.14745521e+09,\n",
       "        -2.14745338e+09, -2.14745985e+09, -2.14731812e+09,\n",
       "        -2.14731812e+09, -2.14745985e+09],\n",
       "       [-2.14745870e+09, -2.14641701e+09, -2.14745774e+09,\n",
       "        -2.14743673e+09, -2.14745342e+09, -2.14716170e+09,\n",
       "        -2.14716170e+09, -2.14738691e+09],\n",
       "       [-2.14740984e+09, -2.14728918e+09, -2.14737060e+09,\n",
       "        -2.14732924e+09, -2.14746906e+09, -2.14722506e+09,\n",
       "        -2.14722506e+09, -2.14746906e+09],\n",
       "       [-2.14744742e+09, -2.14726544e+09, -2.14744742e+09,\n",
       "        -2.14745185e+09, -2.14745968e+09, -2.14747059e+09,\n",
       "        -2.14747059e+09, -2.14732911e+09],\n",
       "       [-2.14744452e+09, -2.14731846e+09, -2.14734552e+09,\n",
       "        -2.14746942e+09, -2.14748109e+09, -2.14740301e+09,\n",
       "        -2.14744780e+09, -2.14748109e+09],\n",
       "       [-2.14747798e+09, -2.14740439e+09, -2.14745255e+09,\n",
       "        -2.14747942e+09, -2.14730432e+09, -2.14746995e+09,\n",
       "        -2.14746995e+09, -2.14730432e+09],\n",
       "       [-2.14740279e+09, -2.14719577e+09, -2.14740279e+09,\n",
       "        -2.14740279e+09, -2.14740637e+09, -2.14736615e+09,\n",
       "        -2.14736615e+09, -2.14735217e+09],\n",
       "       [-2.14745472e+09, -2.14697466e+09, -2.14692059e+09,\n",
       "        -2.14740365e+09, -2.14724699e+09, -2.14690430e+09,\n",
       "        -2.14690430e+09, -2.14724699e+09],\n",
       "       [-2.14746853e+09, -2.14710004e+09, -2.14735776e+09,\n",
       "        -2.14747640e+09, -2.14748360e+09, -2.14726826e+09,\n",
       "        -2.14726826e+09, -2.14748360e+09],\n",
       "       [-2.14747420e+09, -2.14727570e+09, -2.14729082e+09,\n",
       "        -2.14733623e+09, -2.14733908e+09, -2.14709572e+09,\n",
       "        -2.14732099e+09, -2.14733908e+09],\n",
       "       [-2.14746620e+09, -2.14743372e+09, -2.14726015e+09,\n",
       "        -2.14746399e+09, -2.14746620e+09, -2.14719321e+09,\n",
       "        -2.14718535e+09, -2.14746620e+09],\n",
       "       [-2.14748152e+09, -2.14727676e+09, -2.14748152e+09,\n",
       "        -2.14746541e+09, -2.14741990e+09, -2.14661817e+09,\n",
       "        -2.14661817e+09, -2.14741990e+09],\n",
       "       [-2.14746434e+09, -2.14716804e+09, -2.14737504e+09,\n",
       "        -2.14747093e+09, -2.14737504e+09, -2.14737511e+09,\n",
       "        -2.14737511e+09, -2.14731149e+09],\n",
       "       [-2.14743745e+09, -2.14692332e+09, -2.14737930e+09,\n",
       "        -2.14748352e+09, -2.14736291e+09, -2.14742275e+09,\n",
       "        -2.14742275e+09, -2.14736291e+09],\n",
       "       [-2.14741554e+09, -2.14729312e+09, -2.14731561e+09,\n",
       "        -2.14748074e+09, -2.14748217e+09, -2.14695471e+09,\n",
       "        -2.14695471e+09, -2.14748217e+09],\n",
       "       [-2.14747307e+09, -2.14738839e+09, -2.14728428e+09,\n",
       "        -2.14745904e+09, -2.14746771e+09, -2.14739955e+09,\n",
       "        -2.14739955e+09, -2.14746771e+09],\n",
       "       [-2.14740190e+09, -2.14730726e+09, -2.14733873e+09,\n",
       "        -2.14748195e+09, -2.14747474e+09, -2.14630585e+09,\n",
       "        -2.14630585e+09, -2.14747474e+09],\n",
       "       [-2.14746163e+09, -2.14720997e+09, -2.14746240e+09,\n",
       "        -2.14744048e+09, -2.14741022e+09, -2.14721679e+09,\n",
       "        -2.14721679e+09, -2.14739340e+09],\n",
       "       [-2.14746628e+09, -2.14710129e+09, -2.14740960e+09,\n",
       "        -2.14747368e+09, -2.14747560e+09, -2.14707479e+09,\n",
       "        -2.14707479e+09, -2.14747560e+09],\n",
       "       [-2.14747684e+09, -2.14724834e+09, -2.14747684e+09,\n",
       "        -2.14748330e+09, -2.14743512e+09, -2.14699074e+09,\n",
       "        -2.14736819e+09, -2.14727237e+09],\n",
       "       [-2.14728257e+09, -2.14623884e+09, -2.14727048e+09,\n",
       "        -2.14744896e+09, -2.14741219e+09, -2.14747038e+09,\n",
       "        -2.14747038e+09, -2.14741219e+09],\n",
       "       [-2.14747681e+09, -2.14724866e+09, -2.14744972e+09,\n",
       "        -2.14747591e+09, -2.14746908e+09, -2.14747681e+09,\n",
       "        -2.14747681e+09, -2.14746908e+09],\n",
       "       [-2.14734653e+09, -2.14746742e+09, -2.14732519e+09,\n",
       "        -2.14743868e+09, -2.14739305e+09, -2.14687488e+09,\n",
       "        -2.14744156e+09, -2.14733360e+09],\n",
       "       [-2.14741454e+09, -2.14677642e+09, -2.14707288e+09,\n",
       "        -2.14743463e+09, -2.14746805e+09, -2.14744427e+09,\n",
       "        -2.14744427e+09, -2.14746805e+09],\n",
       "       [-2.14743588e+09, -2.14692195e+09, -2.14730660e+09,\n",
       "        -2.14744528e+09, -2.14739893e+09, -2.14666079e+09,\n",
       "        -2.14666079e+09, -2.14734491e+09],\n",
       "       [-2.14745066e+09, -2.14741151e+09, -2.14742685e+09,\n",
       "        -2.14748246e+09, -2.14741586e+09, -2.14738488e+09,\n",
       "        -2.14738488e+09, -2.14739551e+09],\n",
       "       [-2.14743253e+09, -2.14719028e+09, -2.14742109e+09,\n",
       "        -2.14746306e+09, -2.14747510e+09, -2.14738510e+09,\n",
       "        -2.14738510e+09, -2.14741769e+09],\n",
       "       [-2.14745596e+09, -2.14719869e+09, -2.14740216e+09,\n",
       "        -2.14747847e+09, -2.14739592e+09, -2.14690352e+09,\n",
       "        -2.14690352e+09, -2.14739592e+09],\n",
       "       [-2.14747749e+09, -2.14743884e+09, -2.14747749e+09,\n",
       "        -2.14748112e+09, -2.14747318e+09, -2.14604295e+09,\n",
       "        -2.14604295e+09, -2.14742867e+09],\n",
       "       [-2.14743050e+09, -2.14719136e+09, -2.14743050e+09,\n",
       "        -2.14743752e+09, -2.14735640e+09, -2.14727676e+09,\n",
       "        -2.14727676e+09, -2.14735640e+09],\n",
       "       [-2.14747452e+09, -2.14670732e+09, -2.14747303e+09,\n",
       "        -2.14747760e+09, -2.14747918e+09, -2.14656098e+09,\n",
       "        -2.14656098e+09, -2.14745815e+09],\n",
       "       [-2.14747350e+09, -2.14730257e+09, -2.14742768e+09,\n",
       "        -2.14748227e+09, -2.14746686e+09, -2.14702373e+09,\n",
       "        -2.14702373e+09, -2.14746686e+09],\n",
       "       [-2.14746525e+09, -2.14738531e+09, -2.14708746e+09,\n",
       "        -2.14744213e+09, -2.14746771e+09, -2.14730730e+09,\n",
       "        -2.14730730e+09, -2.14746771e+09],\n",
       "       [-2.14747775e+09, -2.14744907e+09, -2.14747775e+09,\n",
       "        -2.14741073e+09, -2.14745159e+09, -2.14676993e+09,\n",
       "        -2.14638045e+09, -2.14737258e+09],\n",
       "       [-2.14747920e+09, -2.14734022e+09, -2.14722017e+09,\n",
       "        -2.14741059e+09, -2.14747722e+09, -2.14667691e+09,\n",
       "        -2.14667691e+09, -2.14747722e+09],\n",
       "       [-2.14744682e+09, -2.14733268e+09, -2.14744682e+09,\n",
       "        -2.14742451e+09, -2.14747094e+09, -2.14690580e+09,\n",
       "        -2.14690580e+09, -2.14739677e+09],\n",
       "       [-2.14748269e+09, -2.14628773e+09, -2.14746802e+09,\n",
       "        -2.14745796e+09, -2.14729952e+09, -2.14663891e+09,\n",
       "        -2.14695315e+09, -2.14746756e+09],\n",
       "       [-2.14748209e+09, -2.14739528e+09, -2.14748209e+09,\n",
       "        -2.14745491e+09, -2.14744030e+09, -2.14748355e+09,\n",
       "        -2.14748355e+09, -2.14743424e+09],\n",
       "       [-2.14743937e+09, -2.14740809e+09, -2.14743378e+09,\n",
       "        -2.14746492e+09, -2.14747552e+09, -2.14741426e+09,\n",
       "        -2.14741426e+09, -2.14747552e+09],\n",
       "       [-2.14747730e+09, -2.14665824e+09, -2.14743958e+09,\n",
       "        -2.14747635e+09, -2.14746650e+09, -2.14747392e+09,\n",
       "        -2.14747392e+09, -2.14746650e+09],\n",
       "       [-2.14747300e+09, -2.14727756e+09, -2.14738758e+09,\n",
       "        -2.14742132e+09, -2.14743920e+09, -2.14676071e+09,\n",
       "        -2.14669680e+09, -2.14743920e+09],\n",
       "       [-2.14744926e+09, -2.14735265e+09, -2.14714541e+09,\n",
       "        -2.14747005e+09, -2.14746012e+09, -2.14733378e+09,\n",
       "        -2.14733378e+09, -2.14737413e+09],\n",
       "       [-2.14747257e+09, -2.14739882e+09, -2.14719341e+09,\n",
       "        -2.14747698e+09, -2.14746686e+09, -2.14705228e+09,\n",
       "        -2.14736793e+09, -2.14745670e+09],\n",
       "       [-2.14747681e+09, -2.14717196e+09, -2.14738348e+09,\n",
       "        -2.14747274e+09, -2.14747207e+09, -2.14712939e+09,\n",
       "        -2.14712939e+09, -2.14747207e+09],\n",
       "       [-2.14744685e+09, -2.14741221e+09, -2.14744685e+09,\n",
       "        -2.14732940e+09, -2.14742754e+09, -2.14709906e+09,\n",
       "        -2.14709906e+09, -2.14742754e+09],\n",
       "       [-2.14745640e+09, -2.14724114e+09, -2.14740842e+09,\n",
       "        -2.14747444e+09, -2.14743907e+09, -2.14713423e+09,\n",
       "        -2.14748113e+09, -2.14743907e+09],\n",
       "       [-2.14745500e+09, -2.14735125e+09, -2.14735736e+09,\n",
       "        -2.14747358e+09, -2.14744975e+09, -2.14722614e+09,\n",
       "        -2.14722614e+09, -2.14714199e+09],\n",
       "       [-2.14743939e+09, -2.14704887e+09, -2.14719942e+09,\n",
       "        -2.14748219e+09, -2.14746776e+09, -2.14737372e+09,\n",
       "        -2.14744092e+09, -2.14692645e+09],\n",
       "       [-2.14746541e+09, -2.14745294e+09, -2.14736777e+09,\n",
       "        -2.14738819e+09, -2.14746501e+09, -2.14719895e+09,\n",
       "        -2.14687020e+09, -2.14743775e+09],\n",
       "       [-2.14745867e+09, -2.14706257e+09, -2.14724895e+09,\n",
       "        -2.14739879e+09, -2.14746240e+09, -2.14739789e+09,\n",
       "        -2.14739789e+09, -2.14743357e+09],\n",
       "       [-2.14748243e+09, -2.14712299e+09, -2.14739392e+09,\n",
       "        -2.14747008e+09, -2.14739518e+09, -2.14693353e+09,\n",
       "        -2.14693353e+09, -2.14738010e+09],\n",
       "       [-2.14748073e+09, -2.14717423e+09, -2.14741369e+09,\n",
       "        -2.14747362e+09, -2.14747239e+09, -2.14726800e+09,\n",
       "        -2.14726800e+09, -2.14747239e+09],\n",
       "       [-2.14745460e+09, -2.14702791e+09, -2.14701414e+09,\n",
       "        -2.14746886e+09, -2.14745738e+09, -2.14657316e+09,\n",
       "        -2.14657316e+09, -2.14736459e+09],\n",
       "       [-2.14746964e+09, -2.14705832e+09, -2.14746964e+09,\n",
       "        -2.14746723e+09, -2.14748062e+09, -2.14740432e+09,\n",
       "        -2.14740432e+09, -2.14748062e+09],\n",
       "       [-2.14746110e+09, -2.14743567e+09, -2.14729923e+09,\n",
       "        -2.14735936e+09, -2.14732914e+09, -2.14669002e+09,\n",
       "        -2.14669002e+09, -2.14732914e+09],\n",
       "       [-2.14745684e+09, -2.14742186e+09, -2.14735421e+09,\n",
       "        -2.14748142e+09, -2.14740178e+09, -2.14739961e+09,\n",
       "        -2.14739961e+09, -2.14740178e+09],\n",
       "       [-2.14734646e+09, -2.14735816e+09, -2.14724357e+09,\n",
       "        -2.14747182e+09, -2.14740701e+09, -2.14682806e+09,\n",
       "        -2.14706638e+09, -2.14740701e+09],\n",
       "       [-2.14747459e+09, -2.14725902e+09, -2.14743727e+09,\n",
       "        -2.14747715e+09, -2.14745696e+09, -2.14719496e+09,\n",
       "        -2.14719496e+09, -2.14745696e+09],\n",
       "       [-2.14745127e+09, -2.14737360e+09, -2.14670116e+09,\n",
       "        -2.14741871e+09, -2.14748310e+09, -2.14724890e+09,\n",
       "        -2.14724890e+09, -2.14748310e+09],\n",
       "       [-2.14746857e+09, -2.14722320e+09, -2.14746857e+09,\n",
       "        -2.14743968e+09, -2.14746692e+09, -2.14734135e+09,\n",
       "        -2.14734135e+09, -2.14744408e+09],\n",
       "       [-2.14741917e+09, -2.14741917e+09, -2.14736306e+09,\n",
       "        -2.14745817e+09, -2.14741917e+09, -2.14734815e+09,\n",
       "        -2.14734815e+09, -2.14741917e+09],\n",
       "       [-2.14742375e+09, -2.14697382e+09, -2.14737128e+09,\n",
       "        -2.14742388e+09, -2.14745941e+09, -2.14716160e+09,\n",
       "        -2.14716160e+09, -2.14745941e+09],\n",
       "       [-2.14739764e+09, -2.14734346e+09, -2.14721561e+09,\n",
       "        -2.14745532e+09, -2.14735104e+09, -2.14739114e+09,\n",
       "        -2.14739114e+09, -2.14734214e+09],\n",
       "       [-2.14741327e+09, -2.14721979e+09, -2.14740191e+09,\n",
       "        -2.14747146e+09, -2.14746926e+09, -2.14718369e+09,\n",
       "        -2.14718369e+09, -2.14746926e+09],\n",
       "       [-2.14747597e+09, -2.14743614e+09, -2.14747597e+09,\n",
       "        -2.14742366e+09, -2.14747747e+09, -2.14689595e+09,\n",
       "        -2.14690141e+09, -2.14747747e+09],\n",
       "       [-2.14746945e+09, -2.14689783e+09, -2.14743899e+09,\n",
       "        -2.14739284e+09, -2.14747952e+09, -2.14733680e+09,\n",
       "        -2.14733680e+09, -2.14746999e+09],\n",
       "       [-2.14747466e+09, -2.14668460e+09, -2.14747466e+09,\n",
       "        -2.14747442e+09, -2.14743363e+09, -2.14723382e+09,\n",
       "        -2.14723382e+09, -2.14740384e+09],\n",
       "       [-2.14745510e+09, -2.14748221e+09, -2.14741510e+09,\n",
       "        -2.14746963e+09, -2.14748115e+09, -2.14711166e+09,\n",
       "        -2.14711166e+09, -2.14748115e+09],\n",
       "       [-2.14746540e+09, -2.14684749e+09, -2.14739009e+09,\n",
       "        -2.14748231e+09, -2.14747773e+09, -2.14725232e+09,\n",
       "        -2.14745725e+09, -2.14747773e+09],\n",
       "       [-2.14735446e+09, -2.14743369e+09, -2.14727775e+09,\n",
       "        -2.14744666e+09, -2.14747264e+09, -2.14724864e+09,\n",
       "        -2.14688149e+09, -2.14746749e+09],\n",
       "       [-2.14743276e+09, -2.14711564e+09, -2.14733598e+09,\n",
       "        -2.14733299e+09, -2.14745116e+09, -2.14731776e+09,\n",
       "        -2.14731776e+09, -2.14730134e+09],\n",
       "       [-2.14740435e+09, -2.14720993e+09, -2.14740435e+09,\n",
       "        -2.14742604e+09, -2.14744504e+09, -2.14738065e+09,\n",
       "        -2.14738065e+09, -2.14739729e+09],\n",
       "       [-2.14736641e+09, -2.14741547e+09, -2.14734209e+09,\n",
       "        -2.14747294e+09, -2.14737184e+09, -2.14739183e+09,\n",
       "        -2.14739183e+09, -2.14737184e+09],\n",
       "       [-2.14747902e+09, -2.14736741e+09, -2.14724330e+09,\n",
       "        -2.14747275e+09, -2.14748043e+09, -2.14691616e+09,\n",
       "        -2.14643547e+09, -2.14733077e+09],\n",
       "       [-2.14748023e+09, -2.14690415e+09, -2.14743359e+09,\n",
       "        -2.14731111e+09, -2.14739613e+09, -2.14737344e+09,\n",
       "        -2.14639744e+09, -2.14708952e+09],\n",
       "       [-2.14745743e+09, -2.14735105e+09, -2.14745494e+09,\n",
       "        -2.14743126e+09, -2.14744651e+09, -2.14743372e+09,\n",
       "        -2.14743372e+09, -2.14744651e+09],\n",
       "       [-2.14746041e+09, -2.14726744e+09, -2.14746041e+09,\n",
       "        -2.14743994e+09, -2.14746634e+09, -2.14719260e+09,\n",
       "        -2.14719260e+09, -2.14746634e+09],\n",
       "       [-2.14746430e+09, -2.14647078e+09, -2.14740325e+09,\n",
       "        -2.14747803e+09, -2.14740411e+09, -2.14746430e+09,\n",
       "        -2.14746430e+09, -2.14740411e+09],\n",
       "       [-2.14744009e+09, -2.14742348e+09, -2.14744009e+09,\n",
       "        -2.14747052e+09, -2.14748291e+09, -2.14675316e+09,\n",
       "        -2.14738830e+09, -2.14737354e+09],\n",
       "       [-2.14748318e+09, -2.14667767e+09, -2.14748318e+09,\n",
       "        -2.14745594e+09, -2.14726934e+09, -2.14740956e+09,\n",
       "        -2.14740956e+09, -2.14709318e+09],\n",
       "       [-2.14745983e+09, -2.14742366e+09, -2.14745983e+09,\n",
       "        -2.14743303e+09, -2.14740744e+09, -2.14613939e+09,\n",
       "        -2.14611378e+09, -2.14729532e+09]])"
      ]
     },
     "execution_count": 57,
     "metadata": {},
     "output_type": "execute_result"
    }
   ],
   "source": [
    "sig_m"
   ]
  },
  {
   "cell_type": "code",
   "execution_count": 58,
   "metadata": {},
   "outputs": [
    {
     "name": "stdout",
     "output_type": "stream",
     "text": [
      "0.6129032258064516\n"
     ]
    }
   ],
   "source": [
    "''' Jaccard similarity'''\n",
    "def jaccard(s1, s2):\n",
    "    return len(s1 & s2) / len(s1 | s2)\n",
    "\n",
    "score = jaccard(set(sig_m[:, 5]), set(sig_m[:, 6])) # finding similarity b/w documents 5 and 6. remember00palm.txt and remembermeorholy00palm.txt\n",
    "\n",
    "print(score)"
   ]
  },
  {
   "cell_type": "markdown",
   "metadata": {},
   "source": [
    "We see that docs 5 and 6 are quite similar (0.61)."
   ]
  },
  {
   "cell_type": "markdown",
   "metadata": {},
   "source": [
    "### LSH implementation"
   ]
  },
  {
   "cell_type": "code",
   "execution_count": 66,
   "metadata": {},
   "outputs": [],
   "source": [
    "''' Implementation of LSH, dividing signature matrix into b band with r rows each'''\n",
    "def LSH(b, r):\n",
    "    b=20\n",
    "    r=5\n",
    "    #b*r=num_hash_funcs\n",
    "\n",
    "    sim_hashes=[]\n",
    "    start=0\n",
    "    for i in range(b):\n",
    "        sim_hashes.append([listhash(col, seed=i) for col in sig_m[start:start+r,:].T])\n",
    "        start=i+r\n",
    "\n",
    "    return sim_hashes\n",
    "\n",
    "''' Find candidate pairs by checking to see if the hashes match.\n",
    "Then we check to see that the Jaccard similarity b/w each pair of docs is atleast t. If so, we consider it a candidate pair otherwise not '''\n",
    "def get_cand_pairs(sim_hashes, t):\n",
    "    cand_pairs=set()\n",
    "    for L in sim_hashes:\n",
    "        dups = collections.defaultdict(list)\n",
    "        for i, e in enumerate(L):\n",
    "            dups[e].append(i)\n",
    "        for k, v in sorted(dups.items()):\n",
    "            if len(v) >= 2:\n",
    "                cand_pairs.add(tuple(v))\n",
    "                # print(k, v)\n",
    "    cand_pairs=list(cand_pairs)\n",
    "    filtered_cand_pairs = [pair for pair in cand_pairs if (jaccard(set(sig_m[:, pair[0]]), set(sig_m[:, pair[1]])) > t)]\n",
    "    return filtered_cand_pairs\n",
    "    # return cand_pairs"
   ]
  },
  {
   "cell_type": "code",
   "execution_count": 67,
   "metadata": {},
   "outputs": [
    {
     "data": {
      "text/plain": [
       "[(5, 6)]"
      ]
     },
     "execution_count": 67,
     "metadata": {},
     "output_type": "execute_result"
    }
   ],
   "source": [
    "b=20\n",
    "r=5\n",
    "sim_hashes = LSH(b=20, r=5)\n",
    "pairs=get_cand_pairs(sim_hashes, t=(1/b)**(1/r))\n",
    "pairs"
   ]
  },
  {
   "cell_type": "markdown",
   "metadata": {},
   "source": [
    "As can be seen using LSH, we find that documents 5 and 6 are similar."
   ]
  },
  {
   "cell_type": "markdown",
   "metadata": {},
   "source": [
    "### Development Junk"
   ]
  },
  {
   "cell_type": "code",
   "execution_count": 64,
   "metadata": {},
   "outputs": [],
   "source": [
    "X = np.random.rand(10,5)"
   ]
  },
  {
   "cell_type": "code",
   "execution_count": 65,
   "metadata": {},
   "outputs": [
    {
     "name": "stdout",
     "output_type": "stream",
     "text": [
      "[0.76717558 0.16896812 0.60805319]\n",
      "[0.10332414 0.71198539 0.31250171]\n",
      "[0.08204225 0.43062834 0.52636287]\n",
      "[0.94627444 0.85569538 0.23878093]\n",
      "[0.5296346  0.48514638 0.3348344 ]\n"
     ]
    }
   ],
   "source": [
    "for col in X[0:3, :].T:\n",
    "    print(col)"
   ]
  }
 ],
 "metadata": {
  "kernelspec": {
   "display_name": "Python 3.9.2 ('comptools')",
   "language": "python",
   "name": "python3"
  },
  "language_info": {
   "codemirror_mode": {
    "name": "ipython",
    "version": 3
   },
   "file_extension": ".py",
   "mimetype": "text/x-python",
   "name": "python",
   "nbconvert_exporter": "python",
   "pygments_lexer": "ipython3",
   "version": "3.9.2"
  },
  "orig_nbformat": 4,
  "vscode": {
   "interpreter": {
    "hash": "e991eec70dcdfedc5f1bcac3fae689529e9bd44f9e597bb7444204679111271f"
   }
  }
 },
 "nbformat": 4,
 "nbformat_minor": 2
}
