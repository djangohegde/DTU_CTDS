{
 "cells": [
  {
   "cell_type": "code",
   "execution_count": 472,
   "metadata": {},
   "outputs": [],
   "source": [
    "import sys\n",
    "import os\n",
    "import mmh3\n",
    "import numpy as np\n",
    "import itertools\n",
    "import collections\n",
    "import pandas as pd\n",
    "import more_itertools\n",
    "from itertools import tee\n",
    "import re\n",
    "#################### Utilities ######################\n",
    "#hashes a list of strings\n",
    "def listhash(l,seed):\n",
    "\tval = 0\n",
    "\tfor e in l:\n",
    "\t\tval = val ^ mmh3.hash(e, seed)\n",
    "\treturn val \n",
    "\n",
    "################### Similarity ######################\n",
    "\n",
    "docs = {} #dictionary mapping document id to document contents\n",
    "\n",
    "data = pd.read_csv(r\"C:\\Users\\hasee\\Documents\\comptools\\DTU_CTDS\\data\\articles1.csv\")\n",
    "\n",
    "data1 = data[:50000]\n",
    "key = data1[\"Unnamed: 0\"]\n",
    "data2 = data1[\"content\"]\n",
    "docs = data2.to_dict()\n",
    "# docs = data2.tolist()\n",
    "# g_docs = data2.tolist()\n",
    "docs = list(zip(data2.tolist())) ## convert to tuple for starmap to work basically getting ['dfdf', 'dddd', 'sss'] => [('dfdf'), ('dddd'), ('sss')]\n",
    "# print(docs[2])\n"
   ]
  },
  {
   "cell_type": "code",
   "execution_count": 473,
   "metadata": {},
   "outputs": [],
   "source": [
    "''' Extension of standard pairwise function to 3-pairwise from the py standard lib'''\n",
    "def three_pairwise(iterable):\n",
    "    # pairwise('ABCDEFG') --> AB BC CD DE EF FG\n",
    "    # three_pairwise('ABCDEFG') --> ABC BCD CDE DEF EFG FG\n",
    "    a, b, c = tee(iterable, 3) ## Create three iterators\n",
    "    next(b, None) ## Advance the second\n",
    "    next(c, None) ## Advance the third\n",
    "    next(c, None) ## Advance the third once again. This ensures the third iterator starts at the third element and that we can create the 3-tuple\n",
    "    return zip(a, b, c) ### Zip everything (1 elem, 2 elem, and 3 elem) concurrently.\n",
    "\n",
    "def hash_docs(doc, k=50):\n",
    "    # three_tup=zip\n",
    "    lst_shingles_h=[]\n",
    "    # for doc in docs:\n",
    "    seed=1\n",
    "    three_tup=three_pairwise(doc.split(\" \"))\n",
    "\n",
    "    three_tup=list(three_tup)\n",
    "\n",
    "    three_tup=[elem for elem in three_tup if '' not in elem]\n",
    "    \n",
    "    # for t in three_tup:\n",
    "    #     if '' or ' ' in t:\n",
    "    #         print(\"single q\", t)\n",
    "    #     if \" \" or \"\" in t:\n",
    "    #         print(\"double \", t)\n",
    "\n",
    "    # print(set(three_tup))\n",
    "\n",
    "    # seeds = [seed+i for i in range(0,k)]\n",
    "    ret_lst=[]\n",
    "    # for s in seeds:  \n",
    "    #     ret_lst.append(np.array(min([listhash(shingle, s) for shingle in three_tup], default=0)))  \n",
    "    # lens=[]\n",
    "    # my_lst=[]\n",
    "    # for shingle in three_tup:\n",
    "    #     my_lst.append(listhash(shingle, seed))\n",
    "    #     lens.append(len(my_lst))\n",
    "    # ret_lst.append(np.array(sorted(my_lst)[:k]))\n",
    "    # print(\"min len\", min(lens))\n",
    "    # ret_lst.append(np.array(sorted([listhash(shingle, seed) for shingle in three_tup])[:k]))\n",
    "    # print(\"min leng\", min(lens))\n",
    "    \n",
    "    # s_lst = sorted([listhash(shingle, seed) for shingle in three_tup])\n",
    "    # print(len(s_lst))\n",
    "    return np.array(sorted([listhash(shingle, seed) for shingle in three_tup]))##[:k])#, len(s_lst)\n",
    "\n",
    "''' Returns document as a list of hashes'''\n",
    "'''\n",
    "Creates shingles of size q, removing shingles of size < q. Removes duplicates and hashes the result.\n",
    "'''\n",
    "def hashed_lst_shingles(my_docs):\n",
    "\n",
    "\n",
    "    hashed_docs = itertools.starmap(hash_docs, my_docs)\n",
    "    return hashed_docs\n",
    "\n",
    "# doc = \"You and me, we made a vow. For better or for worse. I can't believe you let me down\"\n",
    "# lst_shnigles = hashed_lst_shingles(3, doc)\n",
    "# print(lst_shnigles)\n",
    "# [['You', 'and', 'me,'], ['and', 'me,', 'we'], ['me,', 'we', 'made'], ['we', 'made', 'a'], ['made', 'a', 'vow.'], ['a', 'vow.', 'For'], ['vow.', 'For', 'better'], ['For', 'better', 'or'], ['better', 'or', 'for'], ['or', 'for', 'worse.'], ['for', 'worse.', 'I'], ['worse.', 'I', \"can't\"], ['I', \"can't\", 'believe'], [\"can't\", 'believe', 'you'], ['believe', 'you', 'let'], ['you', 'let', 'me'], ['let', 'me', 'down']]"
   ]
  },
  {
   "cell_type": "markdown",
   "metadata": {},
   "source": [
    "### MinHashing implementation"
   ]
  },
  {
   "cell_type": "code",
   "execution_count": 474,
   "metadata": {},
   "outputs": [
    {
     "name": "stdout",
     "output_type": "stream",
     "text": [
      "(47521,)\n"
     ]
    },
    {
     "name": "stderr",
     "output_type": "stream",
     "text": [
      "C:\\Users\\hasee\\AppData\\Local\\Temp\\ipykernel_12596\\928616.py:9: VisibleDeprecationWarning: Creating an ndarray from ragged nested sequences (which is a list-or-tuple of lists-or-tuples-or ndarrays with different lengths or shapes) is deprecated. If you meant to do this, you must specify 'dtype=object' when creating the ndarray.\n",
      "  sig_m=np.array(hashed_shingles).T\n"
     ]
    }
   ],
   "source": [
    "# test_docs=list(zip([\"You and me, we made a vow. For better or for worse. I can't believe you let me down\",\n",
    "# \"Time, space and state. Equal everything explanable.\",\n",
    "# \"You and me, we made a vow. For better or for worse. I can't believe you let me down\"]))\n",
    "hashed_shingles=hashed_lst_shingles(docs)\n",
    "# print(hash)\n",
    "hashed_shingles = list(hashed_shingles)\n",
    "hashed_shingles=[lst for lst in hashed_shingles if len(lst)>100]\n",
    "# hashed_shingles\n",
    "sig_m=np.array(hashed_shingles).T\n",
    "print(sig_m.shape)\n"
   ]
  },
  {
   "cell_type": "code",
   "execution_count": 475,
   "metadata": {},
   "outputs": [
    {
     "name": "stdout",
     "output_type": "stream",
     "text": [
      "101\n"
     ]
    },
    {
     "data": {
      "text/plain": [
       "(101, 47521)"
      ]
     },
     "execution_count": 475,
     "metadata": {},
     "output_type": "execute_result"
    }
   ],
   "source": [
    "lens=min([len(x) for x in sig_m])\n",
    "print(lens)\n",
    "num_docs=sig_m.shape[0]\n",
    "for i in range(num_docs):\n",
    "    sig_m[i]=sig_m[i][:lens]\n",
    "sig_m=np.stack(sig_m).T\n",
    "sig_m.shape\n"
   ]
  },
  {
   "cell_type": "code",
   "execution_count": 476,
   "metadata": {},
   "outputs": [],
   "source": [
    "# my_s=[]\n",
    "# for i in range(len(hashed_shingles)):\n",
    "#     my_s.append(hashed_shingles[i][1])\n",
    "# min(my_s)\n",
    "# # min(my_s)"
   ]
  },
  {
   "cell_type": "markdown",
   "metadata": {},
   "source": [
    "### LSH implementation"
   ]
  },
  {
   "cell_type": "code",
   "execution_count": 477,
   "metadata": {},
   "outputs": [],
   "source": [
    "''' Jaccard similarity'''\n",
    "def jaccard(s1, s2):\n",
    "    return len(s1 & s2) / len(s1 | s2)\n",
    "\n",
    "''' Implementation of LSH, dividing signature matrix into b band with r rows each'''\n",
    "def LSH(sig_m, b, r):\n",
    "    b=20\n",
    "    r=5\n",
    "    #b*r=num_hash_funcs\n",
    "\n",
    "    sim_hashes=[]\n",
    "    start=0\n",
    "    for i in range(b):\n",
    "        sim_hashes.append([listhash(col, seed=i) for col in sig_m[start:start+r,:].T])\n",
    "        start=i+r\n",
    "\n",
    "    return sim_hashes\n",
    "\n",
    "''' Find candidate pairs by checking to see if the hashes match.\n",
    "Then we check to see that the Jaccard similarity b/w each pair of docs is atleast t. If so, we consider it a candidate pair otherwise not '''\n",
    "def get_cand_pairs(sim_hashes, t):\n",
    "    cand_pairs=set()\n",
    "    for L in sim_hashes:\n",
    "        dups = collections.defaultdict(list)\n",
    "        for i, e in enumerate(L):\n",
    "            dups[e].append(i)\n",
    "        for _, v in sorted(dups.items()):\n",
    "            if len(v) >= 2:\n",
    "                cand_pairs.add(tuple(v))\n",
    "    cand_pairs=list(cand_pairs)\n",
    "    filtered_cand_pairs = [pair for pair in cand_pairs if (jaccard(set(sig_m[:, pair[0]]), set(sig_m[:, pair[1]])) > t)]\n",
    "    return filtered_cand_pairs\n",
    "   "
   ]
  },
  {
   "cell_type": "code",
   "execution_count": 478,
   "metadata": {},
   "outputs": [
    {
     "data": {
      "text/plain": [
       "31"
      ]
     },
     "execution_count": 478,
     "metadata": {},
     "output_type": "execute_result"
    }
   ],
   "source": [
    "b=20\n",
    "r=5\n",
    "sim_hashes = LSH(sig_m, b=20, r=5)\n",
    "pairs=get_cand_pairs(sim_hashes, t=(1/b)**(1/r))\n",
    "len(pairs)\n",
    "# pairs"
   ]
  },
  {
   "cell_type": "code",
   "execution_count": 479,
   "metadata": {},
   "outputs": [
    {
     "data": {
      "text/plain": [
       "(101, 47521)"
      ]
     },
     "execution_count": 479,
     "metadata": {},
     "output_type": "execute_result"
    }
   ],
   "source": [
    "sig_m.shape"
   ]
  },
  {
   "cell_type": "code",
   "execution_count": 480,
   "metadata": {},
   "outputs": [
    {
     "data": {
      "text/plain": [
       "[(47381, 47422),\n",
       " (42957, 42965),\n",
       " (43171, 43321),\n",
       " (45465, 45663),\n",
       " (41980, 42274),\n",
       " (15705, 24350),\n",
       " (44545, 44740),\n",
       " (15236, 17272),\n",
       " (47032, 47046),\n",
       " (41620, 41633),\n",
       " (40643, 40763),\n",
       " (44249, 44435),\n",
       " (47384, 47518),\n",
       " (38982, 38995),\n",
       " (43546, 43845, 44135),\n",
       " (38765, 38816),\n",
       " (45476, 45664),\n",
       " (19563, 29213),\n",
       " (45790, 45997),\n",
       " (41101, 41187),\n",
       " (46647, 46703),\n",
       " (41786, 47187),\n",
       " (10977, 12007),\n",
       " (8035, 30924),\n",
       " (16620, 44519),\n",
       " (46331, 46346, 46704),\n",
       " (41731, 41980, 42274),\n",
       " (46330, 46345),\n",
       " (41619, 41632, 41979, 47031),\n",
       " (43546, 44135),\n",
       " (47380, 47421)]"
      ]
     },
     "execution_count": 480,
     "metadata": {},
     "output_type": "execute_result"
    }
   ],
   "source": [
    "pairs"
   ]
  },
  {
   "cell_type": "code",
   "execution_count": 483,
   "metadata": {},
   "outputs": [
    {
     "data": {
      "text/plain": [
       "('Take a look at 38 photos of the week from July 17 through July 23.',)"
      ]
     },
     "execution_count": 483,
     "metadata": {},
     "output_type": "execute_result"
    }
   ],
   "source": [
    "docs[42957]\n",
    "# docs[47422]"
   ]
  },
  {
   "cell_type": "code",
   "execution_count": 484,
   "metadata": {},
   "outputs": [
    {
     "data": {
      "text/plain": [
       "('New York (CNN) Donald Trump lashed out Wednesday at a female lawyer whom he had called ”disgusting” several years ago for requesting a break to pump breast milk in the middle of a deposition, calling her a ”vicious, horrible person.” In an interview with CNN’s Dana Bash, the Republican presidential candidate claimed that the attorney, Elizabeth Beck, had wanted to pump breast milk in other people’s presence. Trump alleged that Beck was now retaliating against him because she was unhappy about having lost that legal battle, and that she had fabricated a story about Trump losing his cool and storming out of the deposition room.  ”She wanted to breast pump in front of me and I may have said that’s disgusting, I may have said something else. I thought it was terrible,” Trump said. ”She’s a vicious, horrible person.” Elizabeth Beck described the 2011 encounter    first reported by the New York Times late Tuesday    as Trump having ”an absolute meltdown” in an interview with CNN’s ”New Day” Wednesday morning.  ”He got up, his face got red, he shook his finger at me and he screamed, ’You’re disgusting, you’re disgusting,’ and he ran out of there,” Beck said. Trump strongly refuted this characterization in Wednesday’s interview, saying Beck had distorted the events. ”She made it up. She made it up,” he said. ”She’s saying, ’Oh, he was so violent and he was so, so wild and she was afraid.’ She was afraid of nobody. She’s a tough killer in Miami everyone knows she’s a killer. They all hate her.”   for his colorful language and imagery, Trump went on to compare Beck’s interview with CNN earlier in the day to the way people who had never met Michael Jackson discussed the iconic pop star after his death.  ”So many people are on television that don’t know me and they’re like experts on me,” Trump said. ”You know when Michael Jackson died    I knew him very well    and everybody was talking about Michael Jackson. They didn’t know him, they knew nothing. Some of them never even met him.” Pressed on how the 2011 incident reflects on how Trump would behave as president    and how he would react if challenged by a world leader like Russian President Vladimir Putin    Trump answered: ”Believe me, I’d do very well with him. I get along with people.” Trump’s immigration policy takes shape, Trump also started to give his immigration platform some shape. He said that as president he would deport all undocumented immigrants and then allow the ”good ones” to reenter the country through an ”expedited process” and live in the U. S. legally, though not as citizens. ”Legal status,” Trump suggested. ”We got to move ’em out, we’re going to move ’em back in if they’re really good people.” For a blustering candidate whose rhetoric has snatched headlines and galvanized a sizable segment of the Republican base, Trump’s comments Wednesday represent his most detailed explanation into what he would do with the estimated   million immigrants living in the U. S. illegally. He had previously suggested that he favors a ”  system,” but did not delve into his support of granting legal status, but not citizenship to undocumented immigrants he calls ”the good ones.” But Trump is still a long ways from presenting a specific immigration policy platform and his explanation in Wednesday’s interview shows a candidate who    despite leading in the polls a week ahead of the first primary debate    is still largely dealing in broad strokes. Trump would not say how he would locate, round up and deport the 11 million undocumented immigrants he says must go. Instead, he deflected, saying that while it may be a task too tall for politicians, it isn’t for a business mogul like himself. ”Politicians aren’t going to find them because they have no clue. We will find them, we will get them out,” Trump said. ”It’s feasible if you know how to manage.  Politicians don’t know how to manage.” And when asked about whether he would deport undocumented immigrants who came to the U. S. as children, Trump fumbled and said, unsure, that ”it’s a tough situation” and ”it depends.” Trump was unequivocal, though, that a Trump administration would immediately deport undocumented criminals living freely and in American jails. ”We have a lot of bad dudes, as I said.  We have a lot of really bad people here,” Trump said. ”I want to get the bad ones out. ..And by the way, they’re never coming back.”  But he was also unwavering in his insistence that many of the undocumented immigrants in the U. S. are positive additions to the country and should be allowed to live in the U. S. legally    of course, only after being expelled and then brought back in through Trump’s ”expedited process” for legal status. ”We have to make sure they were exemplary, they were wonderful people when they were here. They worked hard, there was no problem,” he said. ”We have to bring great people into this country. OK? And I want to bring    I love the idea of immigration. But it’s got to be legal immigration.” Health care, Trump also didn’t delve into details when asked about his position on health care, which has changed over the years. Trump once supported the liberal plan to create a national,   health care system similar to the one in Canada, a position he explained in his 2000 book ”The America We Deserve.” But as a Republican presidential candidate, Trump’s plan is now simpler: Repeal Obamacare. And then? ”Replace with something terrific,” Trump said, explaining that the ”terrific” would be handled by private companies competing in the private market. But Trump suggested an alternative system for   individuals    describing what, in the broad strokes, appears to sound similar to Medicaid. ”I want to try to help those people. And I don’t think there’s anything wrong with that, but I want to try and help those people,” Trump said. ”And you know what, if I lose votes over that, or if I don’t get a nomination over that, that’s just fine with me.” Getting along with the RNC and why Biden might yet run, Trump said Wednesday that he has recently had ”very nice” conversations with the head of the Republican National Committee. ”I respect him,” Trump said of RNC Chairman Reince Priebus. Trump’s interactions with Priebus have come under close scrutiny after the businessman said he was more likely to run as a   candidate if he felt the party establishment wasn’t treating him fairly. The relationship hit a particular rough patch when the committee scolded Trump earlier this month for making disparaging comments about Sen. John McCain’s service in the Vietnam War. Trump repeated that the best path forward for him is to win the GOP nomination and face Democratic frontrunner Hillary Clinton. ”Believe me. I will beat Hillary,” he said. He questioned, however, whether the former secretary of state would even be able to continue her campaign due to her use of her personal email at the State Department. ”What she did is a criminal act. She burned up the emails. She got rid of her hard drive,” he said. Trump suggested that Democratic candidate Bernie Sanders, the senator from Vermont, could end up with more competition. ”I think that other people are going to probably join the race, eventually, like maybe (Vice President Joe) Biden and other people,” he said.  Debate prep, As the current leader in national polls, Trump is poised to take the stage next week at the first Republican primary debate in Ohio. It will be a critical test for the bombastic businessman, who has never held public office and has so far only offered sweeping policy proposals that lack in specifics. The debate will also mark an important moment in the GOP nominating process for voters facing a sprawling field of candidates.  Trump on Wednesday played down any formal preparations he may be engaged in, saying that as a   debater, he’ll simply give it his best and ”be Donald Trump.” ”I am going to be Donald Trump. I think if I’m not Donald Trump, it’s not going to look good,” he said. Rather than paying exorbitant sums of money to professional consultants and pollsters to help him get ready, Trump said he’s been brushing up by constantly watching and reading the news. He even suggested that in 2012, GOP nominee Mitt Romney’s debate performance may have suffered from too much preparation. ”He locked himself in a cabin for a week and he came in for that second and third debate and he wasn’t able to speak,” he said. ”Something happened to him, OK? It wasn’t a good picture.” ”Everybody exaggerates” Trump is first to admit he exaggerates every once in a while. ”Everybody exaggerates. I mean, I guess I do, a little bit,” Trump said on Wednesday. A New York Times report published Tuesday revealed that the real estate mogul admitted to inflating the value of his properties sometimes. But as Trump explains it, the exaggerations are more about putting a positive spin on things than anything else. ”Of course I want to put the best foot forward,” he said. ”I’m not going to say, ’Oh gee, everything is terrible.’ I’m a very optimistic person.” Trump, who has channeled a campaign message focused on the United States losing its prominence in the world, said he would carry this philosophy to the White House. ”I want to put a positive spin on the United States if I’m president because we have a country that’s not respected,” he said. ”We’re very down, the United States is very down. We don’t have good news anymore.” Evolution on abortion, Since Trump announced his candidacy for president, critics have gone after him for past   on a number of policy issues. In Wednesday’s interview, Trump addressed why he was once   rights but is now is  . He said he witnessed a friend come close to having an abortion but ultimately decided to keep the baby. ”Their child is like, this magnificent person. And it had an impact,” Trump said. Trump emphasized that he supports exceptions in cases of rape, incest and when the mother’s health is at risk. ”It’s basically Ronald Reagan,” Trump said. ”He had the three exceptions.” As president, Reagan supported a constitutional amendment that would have restricted abortions to only occasions when the life of the mother was at risk. Earlier in his career, as governor of California, he signed a more liberal law, that he later said he wouldn’t have signed. If Trump were to win the GOP nomination for president, the businessman said he would consider advocating to have the exceptions built into the party’s official platform.  ”It would certainly be something I would want to discuss with the Republican Party,” he said.',)"
      ]
     },
     "execution_count": 484,
     "metadata": {},
     "output_type": "execute_result"
    }
   ],
   "source": [
    "docs[42965]"
   ]
  },
  {
   "cell_type": "markdown",
   "metadata": {},
   "source": [
    "As can be seen using LSH, we find that documents 5 and 6 are similar."
   ]
  }
 ],
 "metadata": {
  "kernelspec": {
   "display_name": "Python 3.9.2 ('comptools')",
   "language": "python",
   "name": "python3"
  },
  "language_info": {
   "codemirror_mode": {
    "name": "ipython",
    "version": 3
   },
   "file_extension": ".py",
   "mimetype": "text/x-python",
   "name": "python",
   "nbconvert_exporter": "python",
   "pygments_lexer": "ipython3",
   "version": "3.9.2"
  },
  "orig_nbformat": 4,
  "vscode": {
   "interpreter": {
    "hash": "e991eec70dcdfedc5f1bcac3fae689529e9bd44f9e597bb7444204679111271f"
   }
  }
 },
 "nbformat": 4,
 "nbformat_minor": 2
}
