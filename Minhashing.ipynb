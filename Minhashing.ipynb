{
 "cells": [
  {
   "cell_type": "markdown",
   "id": "16681647",
   "metadata": {},
   "source": [
    "# MinHashing"
   ]
  },
  {
   "cell_type": "code",
   "execution_count": 201,
   "id": "be408374",
   "metadata": {},
   "outputs": [],
   "source": [
    "import os\n",
    "import mmh3\n",
    "import numpy as np\n",
    "import collections\n",
    "import pandas as pd\n",
    "from datasketch import MinHash, MinHashLSH\n",
    "from nltk.tokenize import word_tokenize\n",
    "from nltk.corpus import stopwords\n",
    "from tqdm import tqdm\n",
    "from sklearn.feature_extraction.text import TfidfVectorizer, CountVectorizer\n",
    "from nltk.stem.wordnet import WordNetLemmatizer\n",
    "from gensim.test.utils import common_corpus, common_dictionary\n",
    "from gensim.models import LdaMulticore, LdaModel\n",
    "from gensim import matutils as genmath, corpora, models\n",
    "from itertools import tee\n",
    "\n",
    "DATA_SIZE=50000"
   ]
  },
  {
   "cell_type": "markdown",
   "id": "4daddf02",
   "metadata": {},
   "source": [
    "### Utilities"
   ]
  },
  {
   "cell_type": "code",
   "execution_count": 202,
   "id": "efe92e5a",
   "metadata": {},
   "outputs": [],
   "source": [
    "#################### Utilities ######################\n",
    "#hashes a list of strings\n",
    "def listhash(l,seed):\n",
    "\tval = 0\n",
    "\tfor e in l:\n",
    "\t\tval = val ^ mmh3.hash(e, seed)\n",
    "\treturn val \n",
    "\n",
    "''' Extension of standard pairwise function to 3-pairwise from the py standard lib'''\n",
    "def three_pairwise(iterable):\n",
    "    # pairwise('ABCDEFG') --> AB BC CD DE EF FG\n",
    "    # three_pairwise('ABCDEFG') --> ABC BCD CDE DEF EFG FG\n",
    "    a, b, c = tee(iterable, 3) ## Create three iterators\n",
    "    next(b, None) ## Advance the second\n",
    "    next(c, None) ## Advance the third\n",
    "    next(c, None) ## Advance the third once again. This ensures the third iterator starts at the third element and that we can create the 3-tuple\n",
    "    return zip(a, b, c) ### Zip everything (1 elem, 2 elem, and 3 elem) concurrently.\n",
    "\n",
    "''' Tokenize data and clean using NLTK package'''\n",
    "stop = set(stopwords.words('english'))\n",
    "def clean(text):\n",
    "\n",
    "    tokens = word_tokenize(text)\n",
    "    # Remove the punctuations, lower tokens and remove stopword\n",
    "    tokens = [word.lower() for word in tokens if word not in stop and len(word) > 2]\n",
    "   \n",
    "    return tokens"
   ]
  },
  {
   "cell_type": "markdown",
   "id": "5e844c8c",
   "metadata": {},
   "source": [
    "### Data preprocessing"
   ]
  },
  {
   "cell_type": "code",
   "execution_count": 203,
   "id": "5289e9bf",
   "metadata": {},
   "outputs": [],
   "source": [
    "''' Load DATA_SIZE amount of data/news articles'''\n",
    "ROOT_DIR = os.path.abspath(os.curdir)\n",
    "data = pd.read_csv(ROOT_DIR+\"\\\\data\\\\articles1.csv\")\n",
    "data_content = data[:DATA_SIZE][\"content\"] #we are only interested in the content in each news"
   ]
  },
  {
   "cell_type": "code",
   "execution_count": 204,
   "id": "0ddfc1cf",
   "metadata": {},
   "outputs": [],
   "source": [
    "''' Clean data '''\n",
    "cleaned_docs=[clean(data) for data in data_content]\n",
    "\n",
    "''' Create 3-pair shingles'''\n",
    "def shingle_docs(doc, k=1000):\n",
    "    \n",
    "    three_tup=list(three_pairwise(doc))\n",
    "    three_tup=[elem for elem in three_tup if len(elem)==3]\n",
    "    return three_tup\n",
    "\n",
    "''' Listhash a doc, represented by a list of shingles (3-wise) '''\n",
    "def hash_doc(doc):\n",
    "    seed=1\n",
    "    return np.array(sorted([listhash(shingle, seed) for shingle in doc]))\n",
    "\n",
    "''' Shingle the entire dataset '''\n",
    "shingled_docs = map(shingle_docs, cleaned_docs)"
   ]
  },
  {
   "cell_type": "markdown",
   "id": "8c7593ea",
   "metadata": {},
   "source": [
    "## Minhashing own implementation"
   ]
  },
  {
   "cell_type": "code",
   "execution_count": 206,
   "id": "8e4afb00",
   "metadata": {},
   "outputs": [
    {
     "name": "stdout",
     "output_type": "stream",
     "text": [
      "50000\n",
      "(43985,)\n"
     ]
    },
    {
     "name": "stderr",
     "output_type": "stream",
     "text": [
      "C:\\Users\\hasee\\AppData\\Local\\Temp\\ipykernel_18236\\4217812439.py:10: VisibleDeprecationWarning: Creating an ndarray from ragged nested sequences (which is a list-or-tuple of lists-or-tuples-or ndarrays with different lengths or shapes) is deprecated. If you meant to do this, you must specify 'dtype=object' when creating the ndarray.\n",
      "  sig_m=np.array(hashed_shingles) #5000x100 -> 100x5000\n"
     ]
    }
   ],
   "source": [
    "# test_docs=list(zip([\"You and me, we made a vow. For better or for worse. I can't believe you let me down\",\n",
    "# \"Time, space and state. Equal everything explanable.\",\n",
    "# \"You and me, we made a vow. For better or for worse. I can't believe you let me down\"]))\n",
    "seed=1\n",
    "hashed_shingles=list(map(hash_doc, shingled_docs))\n",
    "# hashed_shingles=np.array(sorted([listhash(shingle, seed) for shingle in shingled_docs]))\n",
    "print(len(hashed_shingles))\n",
    "hashed_shingles=[lst for lst in hashed_shingles if len(lst)>100]\n",
    "# hashed_shingles\n",
    "sig_m=np.array(hashed_shingles) #5000x100 -> 100x5000\n",
    "print(sig_m.shape)"
   ]
  },
  {
   "cell_type": "code",
   "execution_count": 207,
   "id": "a3d27286",
   "metadata": {},
   "outputs": [
    {
     "name": "stdout",
     "output_type": "stream",
     "text": [
      "101\n"
     ]
    },
    {
     "data": {
      "text/plain": [
       "(101, 43985)"
      ]
     },
     "execution_count": 207,
     "metadata": {},
     "output_type": "execute_result"
    }
   ],
   "source": [
    "lens=min([len(x) for x in sig_m])\n",
    "print(lens)\n",
    "num_docs=sig_m.shape[0]\n",
    "for i in range(num_docs):\n",
    "    sig_m[i]=sig_m[i][:lens]\n",
    "sig_m=np.stack(sig_m).T\n",
    "sig_m.shape"
   ]
  },
  {
   "cell_type": "markdown",
   "id": "7dd9925c",
   "metadata": {},
   "source": [
    "### LSH implementation"
   ]
  },
  {
   "cell_type": "code",
   "execution_count": 208,
   "id": "58e70404",
   "metadata": {},
   "outputs": [],
   "source": [
    "''' Jaccard similarity'''\n",
    "def jaccard(s1, s2):\n",
    "    return len(s1 & s2) / len(s1 | s2)\n",
    "\n",
    "''' Implementation of LSH, dividing signature matrix into b band with r rows each'''\n",
    "def LSH(sig_m, b, r):\n",
    "    b=20\n",
    "    r=5\n",
    "    #b*r=num_hash_funcs\n",
    "\n",
    "    sim_hashes=[]\n",
    "    start=0\n",
    "    for i in range(b):\n",
    "        sim_hashes.append([listhash(col, seed=i) for col in sig_m[start:start+r,:].T])\n",
    "        start=i+r\n",
    "\n",
    "    return sim_hashes\n",
    "\n",
    "''' Find candidate pairs by checking to see if the hashes match.\n",
    "Then we check to see that the Jaccard similarity b/w each pair of docs is atleast t. If so, we consider it a candidate pair otherwise not '''\n",
    "def get_cand_pairs(sim_hashes, t):\n",
    "    cand_pairs=set()\n",
    "    for L in sim_hashes:\n",
    "        dups = collections.defaultdict(list)\n",
    "        for i, e in enumerate(L):\n",
    "            dups[e].append(i)\n",
    "        for _, v in sorted(dups.items()):\n",
    "            if len(v) >= 2:\n",
    "                cand_pairs.add(tuple(v))\n",
    "    cand_pairs=list(cand_pairs)\n",
    "    filtered_cand_pairs = [pair for pair in cand_pairs if (jaccard(set(sig_m[:, pair[0]]), set(sig_m[:, pair[1]])) > t)]\n",
    "    return filtered_cand_pairs\n",
    "   "
   ]
  },
  {
   "cell_type": "code",
   "execution_count": 209,
   "id": "681142de",
   "metadata": {},
   "outputs": [
    {
     "data": {
      "text/plain": [
       "36"
      ]
     },
     "execution_count": 209,
     "metadata": {},
     "output_type": "execute_result"
    }
   ],
   "source": [
    "b=20\n",
    "r=5\n",
    "sim_hashes = LSH(sig_m, b=20, r=5)\n",
    "pairs=get_cand_pairs(sim_hashes, t=(1/b)**(1/r))\n",
    "len(pairs)"
   ]
  },
  {
   "cell_type": "code",
   "execution_count": 210,
   "id": "2b81196e",
   "metadata": {},
   "outputs": [
    {
     "data": {
      "text/plain": [
       "(101, 43985)"
      ]
     },
     "execution_count": 210,
     "metadata": {},
     "output_type": "execute_result"
    }
   ],
   "source": [
    "sig_m.shape"
   ]
  },
  {
   "cell_type": "code",
   "execution_count": 213,
   "id": "4aa7b623",
   "metadata": {},
   "outputs": [
    {
     "data": {
      "text/plain": [
       "[(38900, 38912),\n",
       " (41167, 41325),\n",
       " (42158, 42321),\n",
       " (40096, 40103),\n",
       " (8069, 8165),\n",
       " (32372, 32434),\n",
       " (7992, 28483),\n",
       " (13568, 13993),\n",
       " (43533, 43547),\n",
       " (1158, 29114),\n",
       " (42170, 42245),\n",
       " (40376, 41766),\n",
       " (42431, 42605),\n",
       " (13922, 39326),\n",
       " (37079, 37140),\n",
       " (14829, 22570),\n",
       " (43845, 43886),\n",
       " (12225, 31584),\n",
       " (35740, 35757),\n",
       " (8069, 8165, 11474),\n",
       " (38995, 39221, 39485),\n",
       " (42164, 42322),\n",
       " (42904, 42916),\n",
       " (17766, 26143),\n",
       " (43844, 43885),\n",
       " (42905, 42917, 43243),\n",
       " (40275, 40408),\n",
       " (37948, 38066),\n",
       " (18443, 24450),\n",
       " (39044, 43675),\n",
       " (18292, 26907),\n",
       " (41409, 41565),\n",
       " (38899, 38911, 39220, 43532),\n",
       " (38900, 38912, 38995, 39221, 39485),\n",
       " (37099, 37217),\n",
       " (43191, 43242)]"
      ]
     },
     "execution_count": 213,
     "metadata": {},
     "output_type": "execute_result"
    }
   ],
   "source": [
    "pairs"
   ]
  },
  {
   "cell_type": "markdown",
   "id": "223d69e3",
   "metadata": {},
   "source": [
    "## Minhashing using package"
   ]
  },
  {
   "cell_type": "code",
   "execution_count": 152,
   "id": "239d82c7",
   "metadata": {},
   "outputs": [
    {
     "name": "stderr",
     "output_type": "stream",
     "text": [
      "1000it [00:12, 80.36it/s]\n"
     ]
    }
   ],
   "source": [
    "num_perm = 100\n",
    "min_dict1 = {}\n",
    "count3 = 1\n",
    "for val in tqdm(shingled_docs):\n",
    "    m = MinHash(num_perm=num_perm)\n",
    "    for shingle in val:    \n",
    "      a= []\n",
    "      for i in shingle:\n",
    "        i.encode('utf8')\n",
    "        a.append(i)\n",
    "      data1 = str(['_'.join(a)])\n",
    "\n",
    "      m.update(data1.encode('utf8'))\n",
    "    min_dict1[\"m{}\".format(count3)] = m\n",
    "    count3+=1"
   ]
  },
  {
   "cell_type": "code",
   "execution_count": 153,
   "id": "932d248a",
   "metadata": {},
   "outputs": [
    {
     "name": "stderr",
     "output_type": "stream",
     "text": [
      "100%|██████████| 1000/1000 [00:00<00:00, 18172.66it/s]\n"
     ]
    }
   ],
   "source": [
    "    \n",
    "lsh = MinHashLSH(threshold=0.54, num_perm=num_perm)\n",
    "for key in tqdm(min_dict1.keys()):\n",
    "    lsh.insert(key,min_dict1[key]) # insert minhash data structure"
   ]
  },
  {
   "cell_type": "code",
   "execution_count": 154,
   "id": "33d60902",
   "metadata": {},
   "outputs": [],
   "source": [
    "def create_cand_pairs():\n",
    "    big_list = []\n",
    "    for query in min_dict1.keys():\n",
    "        bucket = lsh.query(min_dict1[query])\n",
    "        if len(bucket)==1:\n",
    "            big_list.append([bucket[0],\"None\"])\n",
    "        if len(bucket)>1:\n",
    "            first_val = bucket[0]\n",
    "            for val in bucket[1:]:\n",
    "                second_val = val\n",
    "                big_list.append([first_val,second_val])\n",
    "    return big_list"
   ]
  },
  {
   "cell_type": "code",
   "execution_count": 155,
   "id": "662fb1de",
   "metadata": {},
   "outputs": [],
   "source": [
    "pairs = create_cand_pairs()\n",
    "pairs1 = [i for i in pairs if i[1] != 'None']"
   ]
  },
  {
   "cell_type": "code",
   "execution_count": 156,
   "id": "7dd13504",
   "metadata": {},
   "outputs": [
    {
     "data": {
      "text/plain": [
       "2"
      ]
     },
     "execution_count": 156,
     "metadata": {},
     "output_type": "execute_result"
    }
   ],
   "source": [
    "len(pairs1)"
   ]
  },
  {
   "cell_type": "markdown",
   "id": "beced1ad",
   "metadata": {},
   "source": [
    " We found that there are so many repetitive pairs so that we have to remove those repetitive pairs"
   ]
  },
  {
   "cell_type": "code",
   "execution_count": 157,
   "id": "69d14f06",
   "metadata": {},
   "outputs": [
    {
     "data": {
      "text/plain": [
       "[['m846', 'm813'], ['m846', 'm813']]"
      ]
     },
     "execution_count": 157,
     "metadata": {},
     "output_type": "execute_result"
    }
   ],
   "source": [
    "pairs1"
   ]
  },
  {
   "cell_type": "code",
   "execution_count": 158,
   "id": "69fcd8b7",
   "metadata": {},
   "outputs": [],
   "source": [
    "candidate_pairs = []\n",
    "for i in pairs1:\n",
    "    if i not in candidate_pairs:\n",
    "        candidate_pairs.append(i)"
   ]
  },
  {
   "cell_type": "code",
   "execution_count": 159,
   "id": "2c67676a",
   "metadata": {},
   "outputs": [
    {
     "data": {
      "text/plain": [
       "1"
      ]
     },
     "execution_count": 159,
     "metadata": {},
     "output_type": "execute_result"
    }
   ],
   "source": [
    "len(candidate_pairs)"
   ]
  },
  {
   "cell_type": "code",
   "execution_count": 160,
   "id": "54571558",
   "metadata": {},
   "outputs": [
    {
     "data": {
      "text/plain": [
       "[['m846', 'm813']]"
      ]
     },
     "execution_count": 160,
     "metadata": {},
     "output_type": "execute_result"
    }
   ],
   "source": [
    "candidate_pairs"
   ]
  },
  {
   "cell_type": "markdown",
   "id": "d128d7a2",
   "metadata": {},
   "source": [
    "# Topic Modeling"
   ]
  },
  {
   "cell_type": "code",
   "execution_count": null,
   "id": "2ec340bd",
   "metadata": {},
   "outputs": [],
   "source": [
    "dictionary = corpora.Dictionary()"
   ]
  },
  {
   "cell_type": "code",
   "execution_count": null,
   "id": "9f28ad15",
   "metadata": {},
   "outputs": [],
   "source": [
    "#Build a list to store the tokenized words for each document\n",
    "data_tokenized = []"
   ]
  },
  {
   "cell_type": "code",
   "execution_count": null,
   "id": "71542c13",
   "metadata": {},
   "outputs": [],
   "source": [
    "#Clean the words in each docuemnt and then add them into the list\n",
    "for i in data_content.index:  \n",
    "    cleaned = clean(data_content[i])   \n",
    "    data_tokenized.append(cleaned)"
   ]
  },
  {
   "cell_type": "code",
   "execution_count": null,
   "id": "af6dc68b",
   "metadata": {},
   "outputs": [],
   "source": [
    "dictionary = corpora.Dictionary()"
   ]
  },
  {
   "cell_type": "code",
   "execution_count": null,
   "id": "300260be",
   "metadata": {},
   "outputs": [],
   "source": [
    "#We need to pass these tokenized words into dictionary.doc2bow() object\n",
    "BoW_corpus = [\n",
    "   dictionary.doc2bow(doc, allow_update=True) for doc in data_tokenized\n",
    "]"
   ]
  },
  {
   "cell_type": "code",
   "execution_count": null,
   "id": "f8ce2302",
   "metadata": {},
   "outputs": [],
   "source": [
    "#Apply the LDA algorithm\n",
    "lda_model = LdaModel(corpus=BoW_corpus, id2word=dictionary, num_topics=10)"
   ]
  },
  {
   "cell_type": "code",
   "execution_count": null,
   "id": "894ef0c6",
   "metadata": {},
   "outputs": [],
   "source": [
    "#Calculate the topic probality for each document\n",
    "topic_prob =lda_model.get_document_topics(BoW_corpus ) "
   ]
  },
  {
   "cell_type": "code",
   "execution_count": null,
   "id": "2fd345fa",
   "metadata": {},
   "outputs": [
    {
     "data": {
      "text/plain": [
       "1000"
      ]
     },
     "execution_count": 25,
     "metadata": {},
     "output_type": "execute_result"
    }
   ],
   "source": [
    "len(topic_prob)"
   ]
  },
  {
   "cell_type": "code",
   "execution_count": null,
   "id": "bc111097",
   "metadata": {},
   "outputs": [],
   "source": [
    "#Create a dic to store the topic for each dicument, we take the topic with the biggest probability as the topic of that document.\n",
    "topic_document = {}\n",
    "for i in enumerate(topic_prob):\n",
    "    max = 0\n",
    "    for j in i[1]:\n",
    "        if j[1] > max:\n",
    "            max = j[1]\n",
    "            topic_document[i[0]] = j[0]"
   ]
  },
  {
   "cell_type": "code",
   "execution_count": null,
   "id": "b86b5062",
   "metadata": {},
   "outputs": [],
   "source": [
    "print(topic_document)"
   ]
  },
  {
   "cell_type": "code",
   "execution_count": null,
   "id": "1518ab38",
   "metadata": {},
   "outputs": [],
   "source": [
    "topic_prob[0]"
   ]
  },
  {
   "cell_type": "code",
   "execution_count": null,
   "id": "cd04678c",
   "metadata": {},
   "outputs": [],
   "source": [
    "topic_num = []\n",
    "for k,v in topic_document.items():\n",
    "    topic_num.append(v)"
   ]
  },
  {
   "cell_type": "code",
   "execution_count": null,
   "id": "6f8a472b",
   "metadata": {},
   "outputs": [
    {
     "data": {
      "text/plain": [
       "1000"
      ]
     },
     "execution_count": 30,
     "metadata": {},
     "output_type": "execute_result"
    }
   ],
   "source": [
    "len(topic_num )"
   ]
  },
  {
   "cell_type": "code",
   "execution_count": null,
   "id": "b27decb3",
   "metadata": {},
   "outputs": [],
   "source": [
    "from collections import Counter\n",
    "topic_counter = Counter(topic_num)"
   ]
  },
  {
   "cell_type": "code",
   "execution_count": null,
   "id": "efecb06e",
   "metadata": {},
   "outputs": [],
   "source": [
    "topic_counter.most_common()"
   ]
  },
  {
   "cell_type": "code",
   "execution_count": null,
   "id": "5609a5bd",
   "metadata": {},
   "outputs": [],
   "source": [
    "topic_num_list = []\n",
    "for i in range(10):\n",
    "    topic_num_list.append(topic_counter[i])"
   ]
  },
  {
   "cell_type": "code",
   "execution_count": null,
   "id": "6841c372",
   "metadata": {},
   "outputs": [
    {
     "data": {
      "image/png": "[encoded data removed]",
      "text/plain": [
       "<Figure size 1500x700 with 1 Axes>"
      ]
     },
     "metadata": {},
     "output_type": "display_data"
    }
   ],
   "source": [
    "# coding=utf-8\n",
    "from matplotlib import pyplot as plt\n",
    "from matplotlib import font_manager\n",
    " \n",
    "plt.figure(figsize=(15,7)) \n",
    "plt.bar(range(10),topic_num_list,align='center', alpha=0.7, ecolor='black', capsize=10)\n",
    "plt.xticks(range(10),range(10))\n",
    "plt.xlabel(\"Topics\")\n",
    "plt.title('Number of documents in the Topic')\n",
    "plt.show()"
   ]
  },
  {
   "cell_type": "code",
   "execution_count": null,
   "id": "d28cc481",
   "metadata": {},
   "outputs": [],
   "source": []
  }
 ],
 "metadata": {
  "kernelspec": {
   "display_name": "Python 3.9.2 ('comptools')",
   "language": "python",
   "name": "python3"
  },
  "language_info": {
   "codemirror_mode": {
    "name": "ipython",
    "version": 3
   },
   "file_extension": ".py",
   "mimetype": "text/x-python",
   "name": "python",
   "nbconvert_exporter": "python",
   "pygments_lexer": "ipython3",
   "version": "3.9.2"
  },
  "vscode": {
   "interpreter": {
    "hash": "e991eec70dcdfedc5f1bcac3fae689529e9bd44f9e597bb7444204679111271f"
   }
  }
 },
 "nbformat": 4,
 "nbformat_minor": 5
}
