{
 "cells": [
  {
   "cell_type": "markdown",
   "id": "16681647",
   "metadata": {},
   "source": [
    "# MinHashing"
   ]
  },
  {
   "cell_type": "code",
   "execution_count": 300,
   "id": "be408374",
   "metadata": {},
   "outputs": [],
   "source": [
    "import os\n",
    "import mmh3\n",
    "import numpy as np\n",
    "import collections\n",
    "import pandas as pd\n",
    "from datasketch import MinHash, MinHashLSH\n",
    "from nltk.tokenize import word_tokenize\n",
    "from nltk.corpus import stopwords\n",
    "from tqdm import tqdm\n",
    "from sklearn.feature_extraction.text import TfidfVectorizer, CountVectorizer\n",
    "from nltk.stem.wordnet import WordNetLemmatizer\n",
    "from gensim.test.utils import common_corpus, common_dictionary\n",
    "from gensim.models import LdaMulticore, LdaModel\n",
    "from gensim import matutils as genmath, corpora, models\n",
    "from itertools import tee\n",
    "import pickle\n",
    "\n",
    "DATA_SIZE=50000"
   ]
  },
  {
   "cell_type": "markdown",
   "id": "4daddf02",
   "metadata": {},
   "source": [
    "### Utilities"
   ]
  },
  {
   "cell_type": "code",
   "execution_count": 301,
   "id": "efe92e5a",
   "metadata": {},
   "outputs": [],
   "source": [
    "#################### Utilities ######################\n",
    "#hashes a list of strings\n",
    "def listhash(l,seed):\n",
    "\tval = 0\n",
    "\tfor e in l:\n",
    "\t\tval = val ^ mmh3.hash(e, seed)\n",
    "\treturn val \n",
    "\n",
    "''' Extension of standard pairwise function to 3-pairwise from the py standard lib'''\n",
    "def three_pairwise(iterable):\n",
    "    # pairwise('ABCDEFG') --> AB BC CD DE EF FG\n",
    "    # three_pairwise('ABCDEFG') --> ABC BCD CDE DEF EFG FG\n",
    "    a, b, c = tee(iterable, 3) ## Create three iterators\n",
    "    next(b, None) ## Advance the second\n",
    "    next(c, None) ## Advance the third\n",
    "    next(c, None) ## Advance the third once again. This ensures the third iterator starts at the third element and that we can create the 3-tuple\n",
    "    return zip(a, b, c) ### Zip everything (1 elem, 2 elem, and 3 elem) concurrently.\n",
    "\n",
    "''' Tokenize data and clean using NLTK package'''\n",
    "stop = set(stopwords.words('english'))\n",
    "def clean(text):\n",
    "\n",
    "    tokens = word_tokenize(text)\n",
    "    # Remove the punctuations, lower tokens and remove stopword\n",
    "    tokens = [word.lower() for word in tokens if word not in stop and len(word) > 2]\n",
    "   \n",
    "    return tokens\n",
    "\n",
    "def stored_pickled_pairs(pairs, filename):\n",
    "    with open(f\"{filename}.pickle\", \"wb\") as handle:\n",
    "        pickle.dump(pairs, handle, pickle.HIGHEST_PROTOCOL)"
   ]
  },
  {
   "cell_type": "markdown",
   "id": "5e844c8c",
   "metadata": {},
   "source": [
    "### Data preprocessing"
   ]
  },
  {
   "cell_type": "code",
   "execution_count": 302,
   "id": "5289e9bf",
   "metadata": {},
   "outputs": [],
   "source": [
    "''' Load DATA_SIZE amount of data/news articles'''\n",
    "ROOT_DIR = os.path.abspath(os.curdir)\n",
    "data = pd.read_csv(ROOT_DIR+\"\\\\data\\\\articles1.csv\")\n",
    "data_content = data[:DATA_SIZE][\"content\"] #we are only interested in the content in each news"
   ]
  },
  {
   "cell_type": "code",
   "execution_count": 303,
   "id": "0ddfc1cf",
   "metadata": {},
   "outputs": [],
   "source": [
    "''' Clean data '''\n",
    "cleaned_docs=[clean(data) for data in data_content]\n",
    "\n",
    "''' Create 3-pair shingles'''\n",
    "def shingle_docs(doc, k=1000):\n",
    "    \n",
    "    three_tup=list(three_pairwise(doc))\n",
    "    three_tup=[elem for elem in three_tup if len(elem)==3]\n",
    "    return three_tup\n",
    "\n",
    "''' Listhash a doc, represented by a list of shingles (3-wise) '''\n",
    "def hash_doc(doc):\n",
    "    seed=1\n",
    "    return np.array(sorted([listhash(shingle, seed) for shingle in doc]))\n",
    "\n",
    "''' Shingle the entire dataset '''\n",
    "shingled_docs = list(map(shingle_docs, cleaned_docs))"
   ]
  },
  {
   "cell_type": "markdown",
   "id": "8c7593ea",
   "metadata": {},
   "source": [
    "## Minhashing own implementation"
   ]
  },
  {
   "cell_type": "code",
   "execution_count": 304,
   "id": "8e4afb00",
   "metadata": {},
   "outputs": [
    {
     "name": "stdout",
     "output_type": "stream",
     "text": [
      "50000\n",
      "(43985,)\n"
     ]
    },
    {
     "name": "stderr",
     "output_type": "stream",
     "text": [
      "C:\\Users\\hasee\\AppData\\Local\\Temp\\ipykernel_18236\\4217812439.py:10: VisibleDeprecationWarning: Creating an ndarray from ragged nested sequences (which is a list-or-tuple of lists-or-tuples-or ndarrays with different lengths or shapes) is deprecated. If you meant to do this, you must specify 'dtype=object' when creating the ndarray.\n",
      "  sig_m=np.array(hashed_shingles) #5000x100 -> 100x5000\n"
     ]
    }
   ],
   "source": [
    "# test_docs=list(zip([\"You and me, we made a vow. For better or for worse. I can't believe you let me down\",\n",
    "# \"Time, space and state. Equal everything explanable.\",\n",
    "# \"You and me, we made a vow. For better or for worse. I can't believe you let me down\"]))\n",
    "seed=1\n",
    "hashed_shingles=list(map(hash_doc, shingled_docs))\n",
    "# hashed_shingles=np.array(sorted([listhash(shingle, seed) for shingle in shingled_docs]))\n",
    "print(len(hashed_shingles))\n",
    "hashed_shingles=[lst for lst in hashed_shingles if len(lst)>100]\n",
    "# hashed_shingles\n",
    "sig_m=np.array(hashed_shingles) #5000x100 -> 100x5000\n",
    "print(sig_m.shape)"
   ]
  },
  {
   "cell_type": "code",
   "execution_count": 305,
   "id": "a3d27286",
   "metadata": {},
   "outputs": [
    {
     "name": "stdout",
     "output_type": "stream",
     "text": [
      "101\n"
     ]
    },
    {
     "data": {
      "text/plain": [
       "(101, 43985)"
      ]
     },
     "execution_count": 305,
     "metadata": {},
     "output_type": "execute_result"
    }
   ],
   "source": [
    "lens=min([len(x) for x in sig_m])\n",
    "print(lens)\n",
    "num_docs=sig_m.shape[0]\n",
    "for i in range(num_docs):\n",
    "    sig_m[i]=sig_m[i][:lens]\n",
    "sig_m=np.stack(sig_m).T\n",
    "sig_m.shape"
   ]
  },
  {
   "cell_type": "markdown",
   "id": "7dd9925c",
   "metadata": {},
   "source": [
    "### LSH implementation"
   ]
  },
  {
   "cell_type": "code",
   "execution_count": 306,
   "id": "58e70404",
   "metadata": {},
   "outputs": [],
   "source": [
    "''' Jaccard similarity'''\n",
    "def jaccard(s1, s2):\n",
    "    return len(s1 & s2) / len(s1 | s2)\n",
    "\n",
    "''' Implementation of LSH, dividing signature matrix into b band with r rows each'''\n",
    "def LSH(sig_m, b, r):\n",
    "    b=20\n",
    "    r=5\n",
    "    #b*r=num_hash_funcs\n",
    "\n",
    "    sim_hashes=[]\n",
    "    start=0\n",
    "    for i in range(b):\n",
    "        sim_hashes.append([listhash(col, seed=i) for col in sig_m[start:start+r,:].T])\n",
    "        start=i+r\n",
    "\n",
    "    return sim_hashes\n",
    "\n",
    "''' Find candidate pairs by checking to see if the hashes match.\n",
    "Then we check to see that the Jaccard similarity b/w each pair of docs is atleast t. If so, we consider it a candidate pair otherwise not '''\n",
    "def get_cand_pairs(sim_hashes, t):\n",
    "    cand_pairs=set()\n",
    "    for L in sim_hashes:\n",
    "        dups = collections.defaultdict(list)\n",
    "        for i, e in enumerate(L):\n",
    "            dups[e].append(i)\n",
    "        for _, v in sorted(dups.items()):\n",
    "            if len(v) >= 2:\n",
    "                cand_pairs.add(tuple(v))\n",
    "    cand_pairs=list(cand_pairs)\n",
    "    filtered_cand_pairs = [pair for pair in cand_pairs if (jaccard(set(sig_m[:, pair[0]]), set(sig_m[:, pair[1]])) > t)]\n",
    "    return filtered_cand_pairs\n",
    "   "
   ]
  },
  {
   "cell_type": "code",
   "execution_count": 307,
   "id": "681142de",
   "metadata": {},
   "outputs": [
    {
     "data": {
      "text/plain": [
       "36"
      ]
     },
     "execution_count": 307,
     "metadata": {},
     "output_type": "execute_result"
    }
   ],
   "source": [
    "b=20\n",
    "r=5\n",
    "sim_hashes = LSH(sig_m, b=20, r=5)\n",
    "pairs1=get_cand_pairs(sim_hashes, t=(1/b)**(1/r)) ## threshold = 0.549\n",
    "len(pairs1)"
   ]
  },
  {
   "cell_type": "code",
   "execution_count": 308,
   "id": "2b81196e",
   "metadata": {},
   "outputs": [
    {
     "name": "stdout",
     "output_type": "stream",
     "text": [
      "(101, 43985)\n"
     ]
    }
   ],
   "source": [
    "print(sig_m.shape)\n",
    "# print(pairs1)\n",
    "stored_pickled_pairs(pairs1, \"pairs1\")"
   ]
  },
  {
   "cell_type": "markdown",
   "id": "223d69e3",
   "metadata": {},
   "source": [
    "## Minhashing using package"
   ]
  },
  {
   "cell_type": "code",
   "execution_count": 309,
   "id": "239d82c7",
   "metadata": {},
   "outputs": [
    {
     "name": "stderr",
     "output_type": "stream",
     "text": [
      "100%|██████████| 50000/50000 [06:31<00:00, 127.71it/s] \n"
     ]
    }
   ],
   "source": [
    "'''num_perm is the number of permutations we want for the MinHash algorithm ,the higher the permutations the longer the runtime.\n",
    "   min_dict1 maps each documents with the form of shingles to min hash signatures. We loop through all the set representations of \n",
    "   questions and calculate the signatures and store them in the min_dict1 dictionary'''\n",
    "num_perm = 100\n",
    "min_dict1 = {}\n",
    "count3 = 1\n",
    "for val in tqdm(shingled_docs):\n",
    "    m = MinHash(num_perm=num_perm)\n",
    "    for shingle in val:    \n",
    "      a= []\n",
    "      for i in shingle:\n",
    "        i.encode('utf8')\n",
    "        a.append(i)\n",
    "      data1 = str(['_'.join(a)])\n",
    "\n",
    "      m.update(data1.encode('utf8'))\n",
    "    min_dict1[\"m{}\".format(count3)] = m\n",
    "    count3+=1"
   ]
  },
  {
   "cell_type": "code",
   "execution_count": 310,
   "id": "932d248a",
   "metadata": {},
   "outputs": [
    {
     "name": "stderr",
     "output_type": "stream",
     "text": [
      "100%|██████████| 50000/50000 [02:53<00:00, 287.91it/s] \n"
     ]
    }
   ],
   "source": [
    "'''We set the Jaccard similarity threshold as a parameter in MinHashLSH. We loop through the signatures or keys \n",
    "   in the min_dict dictionary ,Datasketch stores these in a dictionary format, where the key is a document\n",
    "   and the value is other documents deemed similar based on the threshold. '''        \n",
    "lsh = MinHashLSH(threshold=0.549, num_perm=num_perm)\n",
    "for key in tqdm(min_dict1.keys()):\n",
    "    lsh.insert(key,min_dict1[key]) # insert minhash data structure"
   ]
  },
  {
   "cell_type": "code",
   "execution_count": 311,
   "id": "33d60902",
   "metadata": {},
   "outputs": [],
   "source": [
    "''' This function works with the dictionary output of the LSH to to output candidate pairs. '''\n",
    "def create_cand_pairs():\n",
    "    big_list = []\n",
    "    for query in min_dict1.keys():\n",
    "        bucket = lsh.query(min_dict1[query])\n",
    "        if len(bucket)==1:\n",
    "            big_list.append([bucket[0],\"None\"])\n",
    "        if len(bucket)>1:\n",
    "            first_val = bucket[0]\n",
    "            for val in bucket[1:]:\n",
    "                second_val = val\n",
    "                big_list.append([first_val,second_val])\n",
    "    return big_list"
   ]
  },
  {
   "cell_type": "markdown",
   "id": "beced1ad",
   "metadata": {},
   "source": [
    " We found that there are so many repetitive pairs so that we have to remove those repetitive pairs"
   ]
  },
  {
   "cell_type": "code",
   "execution_count": 312,
   "id": "662fb1de",
   "metadata": {},
   "outputs": [],
   "source": [
    "cand_pairs = create_cand_pairs() #Create candidate pairs.\n",
    "pairs2 = [i for i in cand_pairs if i[1] != 'None'] #Remove pairs contain \"None\".\n",
    "\n",
    "#Create set to store unique candidate pairs.\n",
    "pair_set = set()\n",
    "for pair in pairs2:\n",
    "    pair_set.add(tuple(pair))\n",
    "\n",
    "candidate_pairs=list(pair_set)"
   ]
  },
  {
   "cell_type": "code",
   "execution_count": 313,
   "id": "2c67676a",
   "metadata": {},
   "outputs": [
    {
     "name": "stdout",
     "output_type": "stream",
     "text": [
      "325\n"
     ]
    }
   ],
   "source": [
    "print(len(candidate_pairs))\n",
    "stored_pickled_pairs(candidate_pairs, \"pairs2\")"
   ]
  },
  {
   "cell_type": "markdown",
   "id": "d128d7a2",
   "metadata": {},
   "source": [
    "# Topic Modeling"
   ]
  },
  {
   "cell_type": "code",
   "execution_count": 332,
   "id": "4772197e",
   "metadata": {},
   "outputs": [],
   "source": [
    "''' Load the stored pairs '''\n",
    "with open(\"pairs2.pickle\", \"rb\") as handle:\n",
    "    loaded_pairs = pickle.load(handle)"
   ]
  },
  {
   "cell_type": "code",
   "execution_count": 358,
   "id": "9515278c",
   "metadata": {},
   "outputs": [],
   "source": [
    "''' flatten the list of tuples to get a single list containing the index of each plagiarised news article '''\n",
    "from itertools import chain\n",
    "\n",
    "lst_plag_news = list(chain.from_iterable(loaded_pairs))\n",
    "lst_plag_news = [item[1:] for item in lst_plag_news] ## remove \"m\" symbol to make indexing easier later\n",
    "lst_plag_news = list(set(lst_plag_news)) ## remove duplicates\n",
    "print(len(lst_plag_news))"
   ]
  },
  {
   "cell_type": "code",
   "execution_count": 361,
   "id": "32311efb",
   "metadata": {},
   "outputs": [],
   "source": [
    "''' Extract documents indexed by elements from lst_plag_news '''\n",
    "extraced_docs = [cleaned_docs[int(index)] for index in lst_plag_news]"
   ]
  },
  {
   "cell_type": "code",
   "execution_count": 364,
   "id": "300260be",
   "metadata": {},
   "outputs": [],
   "source": [
    "''' Create a BoW representation of the extracted_docs '''\n",
    "dictionary = corpora.Dictionary()\n",
    "BoW_corpus = [\n",
    "   dictionary.doc2bow(doc, allow_update=True) for doc in extraced_docs\n",
    "]"
   ]
  },
  {
   "cell_type": "code",
   "execution_count": 365,
   "id": "f8ce2302",
   "metadata": {},
   "outputs": [],
   "source": [
    "''' Apply the LDA algorithm '''\n",
    "lda_model = LdaModel(corpus=BoW_corpus, id2word=dictionary, num_topics=10)"
   ]
  },
  {
   "cell_type": "code",
   "execution_count": 366,
   "id": "894ef0c6",
   "metadata": {},
   "outputs": [],
   "source": [
    "#Calculate the topic probality for each document\n",
    "topic_prob =lda_model.get_document_topics(BoW_corpus) "
   ]
  },
  {
   "cell_type": "code",
   "execution_count": 380,
   "id": "0f074f47",
   "metadata": {},
   "outputs": [
    {
     "data": {
      "text/plain": [
       "<gensim.interfaces.TransformedCorpus at 0x21ec3502640>"
      ]
     },
     "execution_count": 380,
     "metadata": {},
     "output_type": "execute_result"
    }
   ],
   "source": [
    "topic_prob[0]"
   ]
  },
  {
   "cell_type": "code",
   "execution_count": 368,
   "id": "bc111097",
   "metadata": {},
   "outputs": [],
   "source": [
    "#Create a dic to store the topic for each dicument, we take the topic with the biggest probability as the topic of that document.\n",
    "topic_document = {}\n",
    "for i in enumerate(topic_prob):\n",
    "    max = 0\n",
    "    for j in i[1]:\n",
    "        if j[1] > max:\n",
    "            max = j[1]\n",
    "            topic_document[i[0]] = j[0]\n",
    "\n",
    "topic_num = []\n",
    "for k,v in topic_document.items():\n",
    "    topic_num.append(v)"
   ]
  },
  {
   "cell_type": "code",
   "execution_count": 372,
   "id": "b27decb3",
   "metadata": {},
   "outputs": [],
   "source": [
    "from collections import Counter\n",
    "topic_counter = Counter(topic_num)\n",
    "print(topic_counter.most_common())"
   ]
  },
  {
   "cell_type": "code",
   "execution_count": 374,
   "id": "5609a5bd",
   "metadata": {},
   "outputs": [],
   "source": [
    "topic_num_list = []\n",
    "for i in range(10):\n",
    "    topic_num_list.append(topic_counter[i])"
   ]
  },
  {
   "cell_type": "code",
   "execution_count": 377,
   "id": "6841c372",
   "metadata": {},
   "outputs": [
    {
     "data": {
      "image/png": "[encoded data removed]",
      "text/plain": [
       "<Figure size 1500x700 with 1 Axes>"
      ]
     },
     "metadata": {},
     "output_type": "display_data"
    }
   ],
   "source": [
    "# coding=utf-8\n",
    "from matplotlib import pyplot as plt\n",
    "from matplotlib import font_manager\n",
    " \n",
    "plt.figure(figsize=(15,7)) \n",
    "plt.bar(range(10),topic_num_list,align='center', alpha=0.7, ecolor='black', capsize=10)\n",
    "plt.xticks(range(10),range(10))\n",
    "plt.xlabel(\"Topics\")\n",
    "plt.title('Number of documents in the Topic')\n",
    "plt.show()"
   ]
  },
  {
   "cell_type": "code",
   "execution_count": null,
   "id": "d28cc481",
   "metadata": {},
   "outputs": [],
   "source": []
  }
 ],
 "metadata": {
  "kernelspec": {
   "display_name": "Python 3.9.2 ('comptools')",
   "language": "python",
   "name": "python3"
  },
  "language_info": {
   "codemirror_mode": {
    "name": "ipython",
    "version": 3
   },
   "file_extension": ".py",
   "mimetype": "text/x-python",
   "name": "python",
   "nbconvert_exporter": "python",
   "pygments_lexer": "ipython3",
   "version": "3.9.2"
  },
  "vscode": {
   "interpreter": {
    "hash": "e991eec70dcdfedc5f1bcac3fae689529e9bd44f9e597bb7444204679111271f"
   }
  }
 },
 "nbformat": 4,
 "nbformat_minor": 5
}
